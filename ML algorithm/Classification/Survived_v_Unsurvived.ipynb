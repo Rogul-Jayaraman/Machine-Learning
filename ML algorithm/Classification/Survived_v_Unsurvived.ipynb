{
  "cells": [
    {
      "cell_type": "code",
      "execution_count": 5,
      "id": "1f4611d6",
      "metadata": {},
      "outputs": [
        {
          "data": {
            "application/vnd.microsoft.datawrangler.viewer.v0+json": {
              "columns": [
                {
                  "name": "index",
                  "rawType": "int64",
                  "type": "integer"
                },
                {
                  "name": "PassengerId",
                  "rawType": "int64",
                  "type": "integer"
                },
                {
                  "name": "Survived",
                  "rawType": "int64",
                  "type": "integer"
                },
                {
                  "name": "Pclass",
                  "rawType": "int64",
                  "type": "integer"
                },
                {
                  "name": "Name",
                  "rawType": "object",
                  "type": "string"
                },
                {
                  "name": "Sex",
                  "rawType": "object",
                  "type": "string"
                },
                {
                  "name": "Age",
                  "rawType": "float64",
                  "type": "float"
                },
                {
                  "name": "SibSp",
                  "rawType": "int64",
                  "type": "integer"
                },
                {
                  "name": "Parch",
                  "rawType": "int64",
                  "type": "integer"
                },
                {
                  "name": "Ticket",
                  "rawType": "object",
                  "type": "string"
                },
                {
                  "name": "Fare",
                  "rawType": "float64",
                  "type": "float"
                },
                {
                  "name": "Cabin",
                  "rawType": "object",
                  "type": "unknown"
                },
                {
                  "name": "Embarked",
                  "rawType": "object",
                  "type": "unknown"
                }
              ],
              "ref": "22a68ffa-6d44-4c6d-862b-95eb67736113",
              "rows": [
                [
                  "0",
                  "1",
                  "0",
                  "3",
                  "Braund, Mr. Owen Harris",
                  "male",
                  "22.0",
                  "1",
                  "0",
                  "A/5 21171",
                  "7.25",
                  null,
                  "S"
                ],
                [
                  "1",
                  "2",
                  "1",
                  "1",
                  "Cumings, Mrs. John Bradley (Florence Briggs Thayer)",
                  "female",
                  "38.0",
                  "1",
                  "0",
                  "PC 17599",
                  "71.2833",
                  "C85",
                  "C"
                ],
                [
                  "2",
                  "3",
                  "1",
                  "3",
                  "Heikkinen, Miss. Laina",
                  "female",
                  "26.0",
                  "0",
                  "0",
                  "STON/O2. 3101282",
                  "7.925",
                  null,
                  "S"
                ],
                [
                  "3",
                  "4",
                  "1",
                  "1",
                  "Futrelle, Mrs. Jacques Heath (Lily May Peel)",
                  "female",
                  "35.0",
                  "1",
                  "0",
                  "113803",
                  "53.1",
                  "C123",
                  "S"
                ],
                [
                  "4",
                  "5",
                  "0",
                  "3",
                  "Allen, Mr. William Henry",
                  "male",
                  "35.0",
                  "0",
                  "0",
                  "373450",
                  "8.05",
                  null,
                  "S"
                ],
                [
                  "5",
                  "6",
                  "0",
                  "3",
                  "Moran, Mr. James",
                  "male",
                  null,
                  "0",
                  "0",
                  "330877",
                  "8.4583",
                  null,
                  "Q"
                ],
                [
                  "6",
                  "7",
                  "0",
                  "1",
                  "McCarthy, Mr. Timothy J",
                  "male",
                  "54.0",
                  "0",
                  "0",
                  "17463",
                  "51.8625",
                  "E46",
                  "S"
                ],
                [
                  "7",
                  "8",
                  "0",
                  "3",
                  "Palsson, Master. Gosta Leonard",
                  "male",
                  "2.0",
                  "3",
                  "1",
                  "349909",
                  "21.075",
                  null,
                  "S"
                ],
                [
                  "8",
                  "9",
                  "1",
                  "3",
                  "Johnson, Mrs. Oscar W (Elisabeth Vilhelmina Berg)",
                  "female",
                  "27.0",
                  "0",
                  "2",
                  "347742",
                  "11.1333",
                  null,
                  "S"
                ],
                [
                  "9",
                  "10",
                  "1",
                  "2",
                  "Nasser, Mrs. Nicholas (Adele Achem)",
                  "female",
                  "14.0",
                  "1",
                  "0",
                  "237736",
                  "30.0708",
                  null,
                  "C"
                ],
                [
                  "10",
                  "11",
                  "1",
                  "3",
                  "Sandstrom, Miss. Marguerite Rut",
                  "female",
                  "4.0",
                  "1",
                  "1",
                  "PP 9549",
                  "16.7",
                  "G6",
                  "S"
                ],
                [
                  "11",
                  "12",
                  "1",
                  "1",
                  "Bonnell, Miss. Elizabeth",
                  "female",
                  "58.0",
                  "0",
                  "0",
                  "113783",
                  "26.55",
                  "C103",
                  "S"
                ],
                [
                  "12",
                  "13",
                  "0",
                  "3",
                  "Saundercock, Mr. William Henry",
                  "male",
                  "20.0",
                  "0",
                  "0",
                  "A/5. 2151",
                  "8.05",
                  null,
                  "S"
                ],
                [
                  "13",
                  "14",
                  "0",
                  "3",
                  "Andersson, Mr. Anders Johan",
                  "male",
                  "39.0",
                  "1",
                  "5",
                  "347082",
                  "31.275",
                  null,
                  "S"
                ],
                [
                  "14",
                  "15",
                  "0",
                  "3",
                  "Vestrom, Miss. Hulda Amanda Adolfina",
                  "female",
                  "14.0",
                  "0",
                  "0",
                  "350406",
                  "7.8542",
                  null,
                  "S"
                ],
                [
                  "15",
                  "16",
                  "1",
                  "2",
                  "Hewlett, Mrs. (Mary D Kingcome) ",
                  "female",
                  "55.0",
                  "0",
                  "0",
                  "248706",
                  "16.0",
                  null,
                  "S"
                ],
                [
                  "16",
                  "17",
                  "0",
                  "3",
                  "Rice, Master. Eugene",
                  "male",
                  "2.0",
                  "4",
                  "1",
                  "382652",
                  "29.125",
                  null,
                  "Q"
                ],
                [
                  "17",
                  "18",
                  "1",
                  "2",
                  "Williams, Mr. Charles Eugene",
                  "male",
                  null,
                  "0",
                  "0",
                  "244373",
                  "13.0",
                  null,
                  "S"
                ],
                [
                  "18",
                  "19",
                  "0",
                  "3",
                  "Vander Planke, Mrs. Julius (Emelia Maria Vandemoortele)",
                  "female",
                  "31.0",
                  "1",
                  "0",
                  "345763",
                  "18.0",
                  null,
                  "S"
                ],
                [
                  "19",
                  "20",
                  "1",
                  "3",
                  "Masselmani, Mrs. Fatima",
                  "female",
                  null,
                  "0",
                  "0",
                  "2649",
                  "7.225",
                  null,
                  "C"
                ],
                [
                  "20",
                  "21",
                  "0",
                  "2",
                  "Fynney, Mr. Joseph J",
                  "male",
                  "35.0",
                  "0",
                  "0",
                  "239865",
                  "26.0",
                  null,
                  "S"
                ],
                [
                  "21",
                  "22",
                  "1",
                  "2",
                  "Beesley, Mr. Lawrence",
                  "male",
                  "34.0",
                  "0",
                  "0",
                  "248698",
                  "13.0",
                  "D56",
                  "S"
                ],
                [
                  "22",
                  "23",
                  "1",
                  "3",
                  "McGowan, Miss. Anna \"Annie\"",
                  "female",
                  "15.0",
                  "0",
                  "0",
                  "330923",
                  "8.0292",
                  null,
                  "Q"
                ],
                [
                  "23",
                  "24",
                  "1",
                  "1",
                  "Sloper, Mr. William Thompson",
                  "male",
                  "28.0",
                  "0",
                  "0",
                  "113788",
                  "35.5",
                  "A6",
                  "S"
                ],
                [
                  "24",
                  "25",
                  "0",
                  "3",
                  "Palsson, Miss. Torborg Danira",
                  "female",
                  "8.0",
                  "3",
                  "1",
                  "349909",
                  "21.075",
                  null,
                  "S"
                ],
                [
                  "25",
                  "26",
                  "1",
                  "3",
                  "Asplund, Mrs. Carl Oscar (Selma Augusta Emilia Johansson)",
                  "female",
                  "38.0",
                  "1",
                  "5",
                  "347077",
                  "31.3875",
                  null,
                  "S"
                ],
                [
                  "26",
                  "27",
                  "0",
                  "3",
                  "Emir, Mr. Farred Chehab",
                  "male",
                  null,
                  "0",
                  "0",
                  "2631",
                  "7.225",
                  null,
                  "C"
                ],
                [
                  "27",
                  "28",
                  "0",
                  "1",
                  "Fortune, Mr. Charles Alexander",
                  "male",
                  "19.0",
                  "3",
                  "2",
                  "19950",
                  "263.0",
                  "C23 C25 C27",
                  "S"
                ],
                [
                  "28",
                  "29",
                  "1",
                  "3",
                  "O'Dwyer, Miss. Ellen \"Nellie\"",
                  "female",
                  null,
                  "0",
                  "0",
                  "330959",
                  "7.8792",
                  null,
                  "Q"
                ],
                [
                  "29",
                  "30",
                  "0",
                  "3",
                  "Todoroff, Mr. Lalio",
                  "male",
                  null,
                  "0",
                  "0",
                  "349216",
                  "7.8958",
                  null,
                  "S"
                ],
                [
                  "30",
                  "31",
                  "0",
                  "1",
                  "Uruchurtu, Don. Manuel E",
                  "male",
                  "40.0",
                  "0",
                  "0",
                  "PC 17601",
                  "27.7208",
                  null,
                  "C"
                ],
                [
                  "31",
                  "32",
                  "1",
                  "1",
                  "Spencer, Mrs. William Augustus (Marie Eugenie)",
                  "female",
                  null,
                  "1",
                  "0",
                  "PC 17569",
                  "146.5208",
                  "B78",
                  "C"
                ],
                [
                  "32",
                  "33",
                  "1",
                  "3",
                  "Glynn, Miss. Mary Agatha",
                  "female",
                  null,
                  "0",
                  "0",
                  "335677",
                  "7.75",
                  null,
                  "Q"
                ],
                [
                  "33",
                  "34",
                  "0",
                  "2",
                  "Wheadon, Mr. Edward H",
                  "male",
                  "66.0",
                  "0",
                  "0",
                  "C.A. 24579",
                  "10.5",
                  null,
                  "S"
                ],
                [
                  "34",
                  "35",
                  "0",
                  "1",
                  "Meyer, Mr. Edgar Joseph",
                  "male",
                  "28.0",
                  "1",
                  "0",
                  "PC 17604",
                  "82.1708",
                  null,
                  "C"
                ],
                [
                  "35",
                  "36",
                  "0",
                  "1",
                  "Holverson, Mr. Alexander Oskar",
                  "male",
                  "42.0",
                  "1",
                  "0",
                  "113789",
                  "52.0",
                  null,
                  "S"
                ],
                [
                  "36",
                  "37",
                  "1",
                  "3",
                  "Mamee, Mr. Hanna",
                  "male",
                  null,
                  "0",
                  "0",
                  "2677",
                  "7.2292",
                  null,
                  "C"
                ],
                [
                  "37",
                  "38",
                  "0",
                  "3",
                  "Cann, Mr. Ernest Charles",
                  "male",
                  "21.0",
                  "0",
                  "0",
                  "A./5. 2152",
                  "8.05",
                  null,
                  "S"
                ],
                [
                  "38",
                  "39",
                  "0",
                  "3",
                  "Vander Planke, Miss. Augusta Maria",
                  "female",
                  "18.0",
                  "2",
                  "0",
                  "345764",
                  "18.0",
                  null,
                  "S"
                ],
                [
                  "39",
                  "40",
                  "1",
                  "3",
                  "Nicola-Yarred, Miss. Jamila",
                  "female",
                  "14.0",
                  "1",
                  "0",
                  "2651",
                  "11.2417",
                  null,
                  "C"
                ],
                [
                  "40",
                  "41",
                  "0",
                  "3",
                  "Ahlin, Mrs. Johan (Johanna Persdotter Larsson)",
                  "female",
                  "40.0",
                  "1",
                  "0",
                  "7546",
                  "9.475",
                  null,
                  "S"
                ],
                [
                  "41",
                  "42",
                  "0",
                  "2",
                  "Turpin, Mrs. William John Robert (Dorothy Ann Wonnacott)",
                  "female",
                  "27.0",
                  "1",
                  "0",
                  "11668",
                  "21.0",
                  null,
                  "S"
                ],
                [
                  "42",
                  "43",
                  "0",
                  "3",
                  "Kraeff, Mr. Theodor",
                  "male",
                  null,
                  "0",
                  "0",
                  "349253",
                  "7.8958",
                  null,
                  "C"
                ],
                [
                  "43",
                  "44",
                  "1",
                  "2",
                  "Laroche, Miss. Simonne Marie Anne Andree",
                  "female",
                  "3.0",
                  "1",
                  "2",
                  "SC/Paris 2123",
                  "41.5792",
                  null,
                  "C"
                ],
                [
                  "44",
                  "45",
                  "1",
                  "3",
                  "Devaney, Miss. Margaret Delia",
                  "female",
                  "19.0",
                  "0",
                  "0",
                  "330958",
                  "7.8792",
                  null,
                  "Q"
                ],
                [
                  "45",
                  "46",
                  "0",
                  "3",
                  "Rogers, Mr. William John",
                  "male",
                  null,
                  "0",
                  "0",
                  "S.C./A.4. 23567",
                  "8.05",
                  null,
                  "S"
                ],
                [
                  "46",
                  "47",
                  "0",
                  "3",
                  "Lennon, Mr. Denis",
                  "male",
                  null,
                  "1",
                  "0",
                  "370371",
                  "15.5",
                  null,
                  "Q"
                ],
                [
                  "47",
                  "48",
                  "1",
                  "3",
                  "O'Driscoll, Miss. Bridget",
                  "female",
                  null,
                  "0",
                  "0",
                  "14311",
                  "7.75",
                  null,
                  "Q"
                ],
                [
                  "48",
                  "49",
                  "0",
                  "3",
                  "Samaan, Mr. Youssef",
                  "male",
                  null,
                  "2",
                  "0",
                  "2662",
                  "21.6792",
                  null,
                  "C"
                ],
                [
                  "49",
                  "50",
                  "0",
                  "3",
                  "Arnold-Franchi, Mrs. Josef (Josefine Franchi)",
                  "female",
                  "18.0",
                  "1",
                  "0",
                  "349237",
                  "17.8",
                  null,
                  "S"
                ]
              ],
              "shape": {
                "columns": 12,
                "rows": 891
              }
            },
            "text/html": [
              "<div>\n",
              "<style scoped>\n",
              "    .dataframe tbody tr th:only-of-type {\n",
              "        vertical-align: middle;\n",
              "    }\n",
              "\n",
              "    .dataframe tbody tr th {\n",
              "        vertical-align: top;\n",
              "    }\n",
              "\n",
              "    .dataframe thead th {\n",
              "        text-align: right;\n",
              "    }\n",
              "</style>\n",
              "<table border=\"1\" class=\"dataframe\">\n",
              "  <thead>\n",
              "    <tr style=\"text-align: right;\">\n",
              "      <th></th>\n",
              "      <th>PassengerId</th>\n",
              "      <th>Survived</th>\n",
              "      <th>Pclass</th>\n",
              "      <th>Name</th>\n",
              "      <th>Sex</th>\n",
              "      <th>Age</th>\n",
              "      <th>SibSp</th>\n",
              "      <th>Parch</th>\n",
              "      <th>Ticket</th>\n",
              "      <th>Fare</th>\n",
              "      <th>Cabin</th>\n",
              "      <th>Embarked</th>\n",
              "    </tr>\n",
              "  </thead>\n",
              "  <tbody>\n",
              "    <tr>\n",
              "      <th>0</th>\n",
              "      <td>1</td>\n",
              "      <td>0</td>\n",
              "      <td>3</td>\n",
              "      <td>Braund, Mr. Owen Harris</td>\n",
              "      <td>male</td>\n",
              "      <td>22.0</td>\n",
              "      <td>1</td>\n",
              "      <td>0</td>\n",
              "      <td>A/5 21171</td>\n",
              "      <td>7.2500</td>\n",
              "      <td>NaN</td>\n",
              "      <td>S</td>\n",
              "    </tr>\n",
              "    <tr>\n",
              "      <th>1</th>\n",
              "      <td>2</td>\n",
              "      <td>1</td>\n",
              "      <td>1</td>\n",
              "      <td>Cumings, Mrs. John Bradley (Florence Briggs Th...</td>\n",
              "      <td>female</td>\n",
              "      <td>38.0</td>\n",
              "      <td>1</td>\n",
              "      <td>0</td>\n",
              "      <td>PC 17599</td>\n",
              "      <td>71.2833</td>\n",
              "      <td>C85</td>\n",
              "      <td>C</td>\n",
              "    </tr>\n",
              "    <tr>\n",
              "      <th>2</th>\n",
              "      <td>3</td>\n",
              "      <td>1</td>\n",
              "      <td>3</td>\n",
              "      <td>Heikkinen, Miss. Laina</td>\n",
              "      <td>female</td>\n",
              "      <td>26.0</td>\n",
              "      <td>0</td>\n",
              "      <td>0</td>\n",
              "      <td>STON/O2. 3101282</td>\n",
              "      <td>7.9250</td>\n",
              "      <td>NaN</td>\n",
              "      <td>S</td>\n",
              "    </tr>\n",
              "    <tr>\n",
              "      <th>3</th>\n",
              "      <td>4</td>\n",
              "      <td>1</td>\n",
              "      <td>1</td>\n",
              "      <td>Futrelle, Mrs. Jacques Heath (Lily May Peel)</td>\n",
              "      <td>female</td>\n",
              "      <td>35.0</td>\n",
              "      <td>1</td>\n",
              "      <td>0</td>\n",
              "      <td>113803</td>\n",
              "      <td>53.1000</td>\n",
              "      <td>C123</td>\n",
              "      <td>S</td>\n",
              "    </tr>\n",
              "    <tr>\n",
              "      <th>4</th>\n",
              "      <td>5</td>\n",
              "      <td>0</td>\n",
              "      <td>3</td>\n",
              "      <td>Allen, Mr. William Henry</td>\n",
              "      <td>male</td>\n",
              "      <td>35.0</td>\n",
              "      <td>0</td>\n",
              "      <td>0</td>\n",
              "      <td>373450</td>\n",
              "      <td>8.0500</td>\n",
              "      <td>NaN</td>\n",
              "      <td>S</td>\n",
              "    </tr>\n",
              "    <tr>\n",
              "      <th>...</th>\n",
              "      <td>...</td>\n",
              "      <td>...</td>\n",
              "      <td>...</td>\n",
              "      <td>...</td>\n",
              "      <td>...</td>\n",
              "      <td>...</td>\n",
              "      <td>...</td>\n",
              "      <td>...</td>\n",
              "      <td>...</td>\n",
              "      <td>...</td>\n",
              "      <td>...</td>\n",
              "      <td>...</td>\n",
              "    </tr>\n",
              "    <tr>\n",
              "      <th>886</th>\n",
              "      <td>887</td>\n",
              "      <td>0</td>\n",
              "      <td>2</td>\n",
              "      <td>Montvila, Rev. Juozas</td>\n",
              "      <td>male</td>\n",
              "      <td>27.0</td>\n",
              "      <td>0</td>\n",
              "      <td>0</td>\n",
              "      <td>211536</td>\n",
              "      <td>13.0000</td>\n",
              "      <td>NaN</td>\n",
              "      <td>S</td>\n",
              "    </tr>\n",
              "    <tr>\n",
              "      <th>887</th>\n",
              "      <td>888</td>\n",
              "      <td>1</td>\n",
              "      <td>1</td>\n",
              "      <td>Graham, Miss. Margaret Edith</td>\n",
              "      <td>female</td>\n",
              "      <td>19.0</td>\n",
              "      <td>0</td>\n",
              "      <td>0</td>\n",
              "      <td>112053</td>\n",
              "      <td>30.0000</td>\n",
              "      <td>B42</td>\n",
              "      <td>S</td>\n",
              "    </tr>\n",
              "    <tr>\n",
              "      <th>888</th>\n",
              "      <td>889</td>\n",
              "      <td>0</td>\n",
              "      <td>3</td>\n",
              "      <td>Johnston, Miss. Catherine Helen \"Carrie\"</td>\n",
              "      <td>female</td>\n",
              "      <td>NaN</td>\n",
              "      <td>1</td>\n",
              "      <td>2</td>\n",
              "      <td>W./C. 6607</td>\n",
              "      <td>23.4500</td>\n",
              "      <td>NaN</td>\n",
              "      <td>S</td>\n",
              "    </tr>\n",
              "    <tr>\n",
              "      <th>889</th>\n",
              "      <td>890</td>\n",
              "      <td>1</td>\n",
              "      <td>1</td>\n",
              "      <td>Behr, Mr. Karl Howell</td>\n",
              "      <td>male</td>\n",
              "      <td>26.0</td>\n",
              "      <td>0</td>\n",
              "      <td>0</td>\n",
              "      <td>111369</td>\n",
              "      <td>30.0000</td>\n",
              "      <td>C148</td>\n",
              "      <td>C</td>\n",
              "    </tr>\n",
              "    <tr>\n",
              "      <th>890</th>\n",
              "      <td>891</td>\n",
              "      <td>0</td>\n",
              "      <td>3</td>\n",
              "      <td>Dooley, Mr. Patrick</td>\n",
              "      <td>male</td>\n",
              "      <td>32.0</td>\n",
              "      <td>0</td>\n",
              "      <td>0</td>\n",
              "      <td>370376</td>\n",
              "      <td>7.7500</td>\n",
              "      <td>NaN</td>\n",
              "      <td>Q</td>\n",
              "    </tr>\n",
              "  </tbody>\n",
              "</table>\n",
              "<p>891 rows × 12 columns</p>\n",
              "</div>"
            ],
            "text/plain": [
              "     PassengerId  Survived  Pclass  \\\n",
              "0              1         0       3   \n",
              "1              2         1       1   \n",
              "2              3         1       3   \n",
              "3              4         1       1   \n",
              "4              5         0       3   \n",
              "..           ...       ...     ...   \n",
              "886          887         0       2   \n",
              "887          888         1       1   \n",
              "888          889         0       3   \n",
              "889          890         1       1   \n",
              "890          891         0       3   \n",
              "\n",
              "                                                  Name     Sex   Age  SibSp  \\\n",
              "0                              Braund, Mr. Owen Harris    male  22.0      1   \n",
              "1    Cumings, Mrs. John Bradley (Florence Briggs Th...  female  38.0      1   \n",
              "2                               Heikkinen, Miss. Laina  female  26.0      0   \n",
              "3         Futrelle, Mrs. Jacques Heath (Lily May Peel)  female  35.0      1   \n",
              "4                             Allen, Mr. William Henry    male  35.0      0   \n",
              "..                                                 ...     ...   ...    ...   \n",
              "886                              Montvila, Rev. Juozas    male  27.0      0   \n",
              "887                       Graham, Miss. Margaret Edith  female  19.0      0   \n",
              "888           Johnston, Miss. Catherine Helen \"Carrie\"  female   NaN      1   \n",
              "889                              Behr, Mr. Karl Howell    male  26.0      0   \n",
              "890                                Dooley, Mr. Patrick    male  32.0      0   \n",
              "\n",
              "     Parch            Ticket     Fare Cabin Embarked  \n",
              "0        0         A/5 21171   7.2500   NaN        S  \n",
              "1        0          PC 17599  71.2833   C85        C  \n",
              "2        0  STON/O2. 3101282   7.9250   NaN        S  \n",
              "3        0            113803  53.1000  C123        S  \n",
              "4        0            373450   8.0500   NaN        S  \n",
              "..     ...               ...      ...   ...      ...  \n",
              "886      0            211536  13.0000   NaN        S  \n",
              "887      0            112053  30.0000   B42        S  \n",
              "888      2        W./C. 6607  23.4500   NaN        S  \n",
              "889      0            111369  30.0000  C148        C  \n",
              "890      0            370376   7.7500   NaN        Q  \n",
              "\n",
              "[891 rows x 12 columns]"
            ]
          },
          "execution_count": 5,
          "metadata": {},
          "output_type": "execute_result"
        }
      ],
      "source": [
        "import numpy as np\n",
        "import pandas as pd\n",
        "import seaborn as sns\n",
        "import matplotlib.pyplot as plt\n",
        "\n",
        "data = pd.read_csv('../../titanic.csv')\n",
        "data"
      ]
    },
    {
      "cell_type": "code",
      "execution_count": 6,
      "id": "9d8c4eef",
      "metadata": {},
      "outputs": [
        {
          "data": {
            "application/vnd.microsoft.datawrangler.viewer.v0+json": {
              "columns": [
                {
                  "name": "index",
                  "rawType": "int64",
                  "type": "integer"
                },
                {
                  "name": "Survived",
                  "rawType": "int64",
                  "type": "integer"
                },
                {
                  "name": "Pclass",
                  "rawType": "int64",
                  "type": "integer"
                },
                {
                  "name": "Sex",
                  "rawType": "object",
                  "type": "string"
                },
                {
                  "name": "Age",
                  "rawType": "float64",
                  "type": "float"
                },
                {
                  "name": "SibSp",
                  "rawType": "int64",
                  "type": "integer"
                },
                {
                  "name": "Parch",
                  "rawType": "int64",
                  "type": "integer"
                },
                {
                  "name": "Fare",
                  "rawType": "float64",
                  "type": "float"
                },
                {
                  "name": "Embarked",
                  "rawType": "object",
                  "type": "unknown"
                }
              ],
              "ref": "a9a41dea-6e70-472c-b5ae-b7c22c4d415e",
              "rows": [
                [
                  "0",
                  "0",
                  "3",
                  "male",
                  "22.0",
                  "1",
                  "0",
                  "7.25",
                  "S"
                ],
                [
                  "1",
                  "1",
                  "1",
                  "female",
                  "38.0",
                  "1",
                  "0",
                  "71.2833",
                  "C"
                ],
                [
                  "2",
                  "1",
                  "3",
                  "female",
                  "26.0",
                  "0",
                  "0",
                  "7.925",
                  "S"
                ],
                [
                  "3",
                  "1",
                  "1",
                  "female",
                  "35.0",
                  "1",
                  "0",
                  "53.1",
                  "S"
                ],
                [
                  "4",
                  "0",
                  "3",
                  "male",
                  "35.0",
                  "0",
                  "0",
                  "8.05",
                  "S"
                ],
                [
                  "5",
                  "0",
                  "3",
                  "male",
                  null,
                  "0",
                  "0",
                  "8.4583",
                  "Q"
                ],
                [
                  "6",
                  "0",
                  "1",
                  "male",
                  "54.0",
                  "0",
                  "0",
                  "51.8625",
                  "S"
                ],
                [
                  "7",
                  "0",
                  "3",
                  "male",
                  "2.0",
                  "3",
                  "1",
                  "21.075",
                  "S"
                ],
                [
                  "8",
                  "1",
                  "3",
                  "female",
                  "27.0",
                  "0",
                  "2",
                  "11.1333",
                  "S"
                ],
                [
                  "9",
                  "1",
                  "2",
                  "female",
                  "14.0",
                  "1",
                  "0",
                  "30.0708",
                  "C"
                ],
                [
                  "10",
                  "1",
                  "3",
                  "female",
                  "4.0",
                  "1",
                  "1",
                  "16.7",
                  "S"
                ],
                [
                  "11",
                  "1",
                  "1",
                  "female",
                  "58.0",
                  "0",
                  "0",
                  "26.55",
                  "S"
                ],
                [
                  "12",
                  "0",
                  "3",
                  "male",
                  "20.0",
                  "0",
                  "0",
                  "8.05",
                  "S"
                ],
                [
                  "13",
                  "0",
                  "3",
                  "male",
                  "39.0",
                  "1",
                  "5",
                  "31.275",
                  "S"
                ],
                [
                  "14",
                  "0",
                  "3",
                  "female",
                  "14.0",
                  "0",
                  "0",
                  "7.8542",
                  "S"
                ],
                [
                  "15",
                  "1",
                  "2",
                  "female",
                  "55.0",
                  "0",
                  "0",
                  "16.0",
                  "S"
                ],
                [
                  "16",
                  "0",
                  "3",
                  "male",
                  "2.0",
                  "4",
                  "1",
                  "29.125",
                  "Q"
                ],
                [
                  "17",
                  "1",
                  "2",
                  "male",
                  null,
                  "0",
                  "0",
                  "13.0",
                  "S"
                ],
                [
                  "18",
                  "0",
                  "3",
                  "female",
                  "31.0",
                  "1",
                  "0",
                  "18.0",
                  "S"
                ],
                [
                  "19",
                  "1",
                  "3",
                  "female",
                  null,
                  "0",
                  "0",
                  "7.225",
                  "C"
                ],
                [
                  "20",
                  "0",
                  "2",
                  "male",
                  "35.0",
                  "0",
                  "0",
                  "26.0",
                  "S"
                ],
                [
                  "21",
                  "1",
                  "2",
                  "male",
                  "34.0",
                  "0",
                  "0",
                  "13.0",
                  "S"
                ],
                [
                  "22",
                  "1",
                  "3",
                  "female",
                  "15.0",
                  "0",
                  "0",
                  "8.0292",
                  "Q"
                ],
                [
                  "23",
                  "1",
                  "1",
                  "male",
                  "28.0",
                  "0",
                  "0",
                  "35.5",
                  "S"
                ],
                [
                  "24",
                  "0",
                  "3",
                  "female",
                  "8.0",
                  "3",
                  "1",
                  "21.075",
                  "S"
                ],
                [
                  "25",
                  "1",
                  "3",
                  "female",
                  "38.0",
                  "1",
                  "5",
                  "31.3875",
                  "S"
                ],
                [
                  "26",
                  "0",
                  "3",
                  "male",
                  null,
                  "0",
                  "0",
                  "7.225",
                  "C"
                ],
                [
                  "27",
                  "0",
                  "1",
                  "male",
                  "19.0",
                  "3",
                  "2",
                  "263.0",
                  "S"
                ],
                [
                  "28",
                  "1",
                  "3",
                  "female",
                  null,
                  "0",
                  "0",
                  "7.8792",
                  "Q"
                ],
                [
                  "29",
                  "0",
                  "3",
                  "male",
                  null,
                  "0",
                  "0",
                  "7.8958",
                  "S"
                ],
                [
                  "30",
                  "0",
                  "1",
                  "male",
                  "40.0",
                  "0",
                  "0",
                  "27.7208",
                  "C"
                ],
                [
                  "31",
                  "1",
                  "1",
                  "female",
                  null,
                  "1",
                  "0",
                  "146.5208",
                  "C"
                ],
                [
                  "32",
                  "1",
                  "3",
                  "female",
                  null,
                  "0",
                  "0",
                  "7.75",
                  "Q"
                ],
                [
                  "33",
                  "0",
                  "2",
                  "male",
                  "66.0",
                  "0",
                  "0",
                  "10.5",
                  "S"
                ],
                [
                  "34",
                  "0",
                  "1",
                  "male",
                  "28.0",
                  "1",
                  "0",
                  "82.1708",
                  "C"
                ],
                [
                  "35",
                  "0",
                  "1",
                  "male",
                  "42.0",
                  "1",
                  "0",
                  "52.0",
                  "S"
                ],
                [
                  "36",
                  "1",
                  "3",
                  "male",
                  null,
                  "0",
                  "0",
                  "7.2292",
                  "C"
                ],
                [
                  "37",
                  "0",
                  "3",
                  "male",
                  "21.0",
                  "0",
                  "0",
                  "8.05",
                  "S"
                ],
                [
                  "38",
                  "0",
                  "3",
                  "female",
                  "18.0",
                  "2",
                  "0",
                  "18.0",
                  "S"
                ],
                [
                  "39",
                  "1",
                  "3",
                  "female",
                  "14.0",
                  "1",
                  "0",
                  "11.2417",
                  "C"
                ],
                [
                  "40",
                  "0",
                  "3",
                  "female",
                  "40.0",
                  "1",
                  "0",
                  "9.475",
                  "S"
                ],
                [
                  "41",
                  "0",
                  "2",
                  "female",
                  "27.0",
                  "1",
                  "0",
                  "21.0",
                  "S"
                ],
                [
                  "42",
                  "0",
                  "3",
                  "male",
                  null,
                  "0",
                  "0",
                  "7.8958",
                  "C"
                ],
                [
                  "43",
                  "1",
                  "2",
                  "female",
                  "3.0",
                  "1",
                  "2",
                  "41.5792",
                  "C"
                ],
                [
                  "44",
                  "1",
                  "3",
                  "female",
                  "19.0",
                  "0",
                  "0",
                  "7.8792",
                  "Q"
                ],
                [
                  "45",
                  "0",
                  "3",
                  "male",
                  null,
                  "0",
                  "0",
                  "8.05",
                  "S"
                ],
                [
                  "46",
                  "0",
                  "3",
                  "male",
                  null,
                  "1",
                  "0",
                  "15.5",
                  "Q"
                ],
                [
                  "47",
                  "1",
                  "3",
                  "female",
                  null,
                  "0",
                  "0",
                  "7.75",
                  "Q"
                ],
                [
                  "48",
                  "0",
                  "3",
                  "male",
                  null,
                  "2",
                  "0",
                  "21.6792",
                  "C"
                ],
                [
                  "49",
                  "0",
                  "3",
                  "female",
                  "18.0",
                  "1",
                  "0",
                  "17.8",
                  "S"
                ]
              ],
              "shape": {
                "columns": 8,
                "rows": 891
              }
            },
            "text/html": [
              "<div>\n",
              "<style scoped>\n",
              "    .dataframe tbody tr th:only-of-type {\n",
              "        vertical-align: middle;\n",
              "    }\n",
              "\n",
              "    .dataframe tbody tr th {\n",
              "        vertical-align: top;\n",
              "    }\n",
              "\n",
              "    .dataframe thead th {\n",
              "        text-align: right;\n",
              "    }\n",
              "</style>\n",
              "<table border=\"1\" class=\"dataframe\">\n",
              "  <thead>\n",
              "    <tr style=\"text-align: right;\">\n",
              "      <th></th>\n",
              "      <th>Survived</th>\n",
              "      <th>Pclass</th>\n",
              "      <th>Sex</th>\n",
              "      <th>Age</th>\n",
              "      <th>SibSp</th>\n",
              "      <th>Parch</th>\n",
              "      <th>Fare</th>\n",
              "      <th>Embarked</th>\n",
              "    </tr>\n",
              "  </thead>\n",
              "  <tbody>\n",
              "    <tr>\n",
              "      <th>0</th>\n",
              "      <td>0</td>\n",
              "      <td>3</td>\n",
              "      <td>male</td>\n",
              "      <td>22.0</td>\n",
              "      <td>1</td>\n",
              "      <td>0</td>\n",
              "      <td>7.2500</td>\n",
              "      <td>S</td>\n",
              "    </tr>\n",
              "    <tr>\n",
              "      <th>1</th>\n",
              "      <td>1</td>\n",
              "      <td>1</td>\n",
              "      <td>female</td>\n",
              "      <td>38.0</td>\n",
              "      <td>1</td>\n",
              "      <td>0</td>\n",
              "      <td>71.2833</td>\n",
              "      <td>C</td>\n",
              "    </tr>\n",
              "    <tr>\n",
              "      <th>2</th>\n",
              "      <td>1</td>\n",
              "      <td>3</td>\n",
              "      <td>female</td>\n",
              "      <td>26.0</td>\n",
              "      <td>0</td>\n",
              "      <td>0</td>\n",
              "      <td>7.9250</td>\n",
              "      <td>S</td>\n",
              "    </tr>\n",
              "    <tr>\n",
              "      <th>3</th>\n",
              "      <td>1</td>\n",
              "      <td>1</td>\n",
              "      <td>female</td>\n",
              "      <td>35.0</td>\n",
              "      <td>1</td>\n",
              "      <td>0</td>\n",
              "      <td>53.1000</td>\n",
              "      <td>S</td>\n",
              "    </tr>\n",
              "    <tr>\n",
              "      <th>4</th>\n",
              "      <td>0</td>\n",
              "      <td>3</td>\n",
              "      <td>male</td>\n",
              "      <td>35.0</td>\n",
              "      <td>0</td>\n",
              "      <td>0</td>\n",
              "      <td>8.0500</td>\n",
              "      <td>S</td>\n",
              "    </tr>\n",
              "    <tr>\n",
              "      <th>...</th>\n",
              "      <td>...</td>\n",
              "      <td>...</td>\n",
              "      <td>...</td>\n",
              "      <td>...</td>\n",
              "      <td>...</td>\n",
              "      <td>...</td>\n",
              "      <td>...</td>\n",
              "      <td>...</td>\n",
              "    </tr>\n",
              "    <tr>\n",
              "      <th>886</th>\n",
              "      <td>0</td>\n",
              "      <td>2</td>\n",
              "      <td>male</td>\n",
              "      <td>27.0</td>\n",
              "      <td>0</td>\n",
              "      <td>0</td>\n",
              "      <td>13.0000</td>\n",
              "      <td>S</td>\n",
              "    </tr>\n",
              "    <tr>\n",
              "      <th>887</th>\n",
              "      <td>1</td>\n",
              "      <td>1</td>\n",
              "      <td>female</td>\n",
              "      <td>19.0</td>\n",
              "      <td>0</td>\n",
              "      <td>0</td>\n",
              "      <td>30.0000</td>\n",
              "      <td>S</td>\n",
              "    </tr>\n",
              "    <tr>\n",
              "      <th>888</th>\n",
              "      <td>0</td>\n",
              "      <td>3</td>\n",
              "      <td>female</td>\n",
              "      <td>NaN</td>\n",
              "      <td>1</td>\n",
              "      <td>2</td>\n",
              "      <td>23.4500</td>\n",
              "      <td>S</td>\n",
              "    </tr>\n",
              "    <tr>\n",
              "      <th>889</th>\n",
              "      <td>1</td>\n",
              "      <td>1</td>\n",
              "      <td>male</td>\n",
              "      <td>26.0</td>\n",
              "      <td>0</td>\n",
              "      <td>0</td>\n",
              "      <td>30.0000</td>\n",
              "      <td>C</td>\n",
              "    </tr>\n",
              "    <tr>\n",
              "      <th>890</th>\n",
              "      <td>0</td>\n",
              "      <td>3</td>\n",
              "      <td>male</td>\n",
              "      <td>32.0</td>\n",
              "      <td>0</td>\n",
              "      <td>0</td>\n",
              "      <td>7.7500</td>\n",
              "      <td>Q</td>\n",
              "    </tr>\n",
              "  </tbody>\n",
              "</table>\n",
              "<p>891 rows × 8 columns</p>\n",
              "</div>"
            ],
            "text/plain": [
              "     Survived  Pclass     Sex   Age  SibSp  Parch     Fare Embarked\n",
              "0           0       3    male  22.0      1      0   7.2500        S\n",
              "1           1       1  female  38.0      1      0  71.2833        C\n",
              "2           1       3  female  26.0      0      0   7.9250        S\n",
              "3           1       1  female  35.0      1      0  53.1000        S\n",
              "4           0       3    male  35.0      0      0   8.0500        S\n",
              "..        ...     ...     ...   ...    ...    ...      ...      ...\n",
              "886         0       2    male  27.0      0      0  13.0000        S\n",
              "887         1       1  female  19.0      0      0  30.0000        S\n",
              "888         0       3  female   NaN      1      2  23.4500        S\n",
              "889         1       1    male  26.0      0      0  30.0000        C\n",
              "890         0       3    male  32.0      0      0   7.7500        Q\n",
              "\n",
              "[891 rows x 8 columns]"
            ]
          },
          "execution_count": 6,
          "metadata": {},
          "output_type": "execute_result"
        }
      ],
      "source": [
        "data.drop(columns=['Name','PassengerId','Ticket','Cabin'],inplace=True,errors='ignore')\n",
        "data"
      ]
    },
    {
      "cell_type": "markdown",
      "id": "d0e7e6c5",
      "metadata": {},
      "source": [
        "EDA"
      ]
    },
    {
      "cell_type": "code",
      "execution_count": 7,
      "id": "b7b6629a",
      "metadata": {},
      "outputs": [
        {
          "name": "stdout",
          "output_type": "stream",
          "text": [
            "<class 'pandas.core.frame.DataFrame'>\n",
            "RangeIndex: 891 entries, 0 to 890\n",
            "Data columns (total 8 columns):\n",
            " #   Column    Non-Null Count  Dtype  \n",
            "---  ------    --------------  -----  \n",
            " 0   Survived  891 non-null    int64  \n",
            " 1   Pclass    891 non-null    int64  \n",
            " 2   Sex       891 non-null    object \n",
            " 3   Age       714 non-null    float64\n",
            " 4   SibSp     891 non-null    int64  \n",
            " 5   Parch     891 non-null    int64  \n",
            " 6   Fare      891 non-null    float64\n",
            " 7   Embarked  889 non-null    object \n",
            "dtypes: float64(2), int64(4), object(2)\n",
            "memory usage: 55.8+ KB\n"
          ]
        }
      ],
      "source": [
        "data.info()"
      ]
    },
    {
      "cell_type": "code",
      "execution_count": 8,
      "id": "0470e668",
      "metadata": {},
      "outputs": [
        {
          "data": {
            "application/vnd.microsoft.datawrangler.viewer.v0+json": {
              "columns": [
                {
                  "name": "index",
                  "rawType": "object",
                  "type": "string"
                },
                {
                  "name": "0",
                  "rawType": "int64",
                  "type": "integer"
                }
              ],
              "ref": "d492104f-e038-43fe-8f53-3ca3bb292572",
              "rows": [
                [
                  "Survived",
                  "0"
                ],
                [
                  "Pclass",
                  "0"
                ],
                [
                  "Sex",
                  "0"
                ],
                [
                  "Age",
                  "177"
                ],
                [
                  "SibSp",
                  "0"
                ],
                [
                  "Parch",
                  "0"
                ],
                [
                  "Fare",
                  "0"
                ],
                [
                  "Embarked",
                  "2"
                ]
              ],
              "shape": {
                "columns": 1,
                "rows": 8
              }
            },
            "text/plain": [
              "Survived      0\n",
              "Pclass        0\n",
              "Sex           0\n",
              "Age         177\n",
              "SibSp         0\n",
              "Parch         0\n",
              "Fare          0\n",
              "Embarked      2\n",
              "dtype: int64"
            ]
          },
          "execution_count": 8,
          "metadata": {},
          "output_type": "execute_result"
        }
      ],
      "source": [
        "data.isna().sum()"
      ]
    },
    {
      "cell_type": "code",
      "execution_count": 9,
      "id": "051092b3",
      "metadata": {},
      "outputs": [
        {
          "name": "stdout",
          "output_type": "stream",
          "text": [
            "<class 'pandas.core.frame.DataFrame'>\n",
            "RangeIndex: 891 entries, 0 to 890\n",
            "Data columns (total 8 columns):\n",
            " #   Column    Non-Null Count  Dtype  \n",
            "---  ------    --------------  -----  \n",
            " 0   Survived  891 non-null    int64  \n",
            " 1   Pclass    891 non-null    int64  \n",
            " 2   Sex       891 non-null    object \n",
            " 3   Age       891 non-null    float64\n",
            " 4   SibSp     891 non-null    int64  \n",
            " 5   Parch     891 non-null    int64  \n",
            " 6   Fare      891 non-null    float64\n",
            " 7   Embarked  891 non-null    object \n",
            "dtypes: float64(2), int64(4), object(2)\n",
            "memory usage: 55.8+ KB\n"
          ]
        },
        {
          "data": {
            "application/vnd.microsoft.datawrangler.viewer.v0+json": {
              "columns": [
                {
                  "name": "index",
                  "rawType": "int64",
                  "type": "integer"
                },
                {
                  "name": "Survived",
                  "rawType": "int64",
                  "type": "integer"
                },
                {
                  "name": "Pclass",
                  "rawType": "int64",
                  "type": "integer"
                },
                {
                  "name": "Sex",
                  "rawType": "object",
                  "type": "string"
                },
                {
                  "name": "Age",
                  "rawType": "float64",
                  "type": "float"
                },
                {
                  "name": "SibSp",
                  "rawType": "int64",
                  "type": "integer"
                },
                {
                  "name": "Parch",
                  "rawType": "int64",
                  "type": "integer"
                },
                {
                  "name": "Fare",
                  "rawType": "float64",
                  "type": "float"
                },
                {
                  "name": "Embarked",
                  "rawType": "object",
                  "type": "string"
                }
              ],
              "ref": "32bfd588-2536-46b5-80ad-9cc252aa3f33",
              "rows": [
                [
                  "0",
                  "0",
                  "3",
                  "male",
                  "22.0",
                  "1",
                  "0",
                  "7.25",
                  "S"
                ],
                [
                  "1",
                  "1",
                  "1",
                  "female",
                  "38.0",
                  "1",
                  "0",
                  "71.2833",
                  "C"
                ],
                [
                  "2",
                  "1",
                  "3",
                  "female",
                  "26.0",
                  "0",
                  "0",
                  "7.925",
                  "S"
                ],
                [
                  "3",
                  "1",
                  "1",
                  "female",
                  "35.0",
                  "1",
                  "0",
                  "53.1",
                  "S"
                ],
                [
                  "4",
                  "0",
                  "3",
                  "male",
                  "35.0",
                  "0",
                  "0",
                  "8.05",
                  "S"
                ],
                [
                  "5",
                  "0",
                  "3",
                  "male",
                  "29.69911764705882",
                  "0",
                  "0",
                  "8.4583",
                  "Q"
                ],
                [
                  "6",
                  "0",
                  "1",
                  "male",
                  "54.0",
                  "0",
                  "0",
                  "51.8625",
                  "S"
                ],
                [
                  "7",
                  "0",
                  "3",
                  "male",
                  "2.0",
                  "3",
                  "1",
                  "21.075",
                  "S"
                ],
                [
                  "8",
                  "1",
                  "3",
                  "female",
                  "27.0",
                  "0",
                  "2",
                  "11.1333",
                  "S"
                ],
                [
                  "9",
                  "1",
                  "2",
                  "female",
                  "14.0",
                  "1",
                  "0",
                  "30.0708",
                  "C"
                ],
                [
                  "10",
                  "1",
                  "3",
                  "female",
                  "4.0",
                  "1",
                  "1",
                  "16.7",
                  "S"
                ],
                [
                  "11",
                  "1",
                  "1",
                  "female",
                  "58.0",
                  "0",
                  "0",
                  "26.55",
                  "S"
                ],
                [
                  "12",
                  "0",
                  "3",
                  "male",
                  "20.0",
                  "0",
                  "0",
                  "8.05",
                  "S"
                ],
                [
                  "13",
                  "0",
                  "3",
                  "male",
                  "39.0",
                  "1",
                  "5",
                  "31.275",
                  "S"
                ],
                [
                  "14",
                  "0",
                  "3",
                  "female",
                  "14.0",
                  "0",
                  "0",
                  "7.8542",
                  "S"
                ],
                [
                  "15",
                  "1",
                  "2",
                  "female",
                  "55.0",
                  "0",
                  "0",
                  "16.0",
                  "S"
                ],
                [
                  "16",
                  "0",
                  "3",
                  "male",
                  "2.0",
                  "4",
                  "1",
                  "29.125",
                  "Q"
                ],
                [
                  "17",
                  "1",
                  "2",
                  "male",
                  "29.69911764705882",
                  "0",
                  "0",
                  "13.0",
                  "S"
                ],
                [
                  "18",
                  "0",
                  "3",
                  "female",
                  "31.0",
                  "1",
                  "0",
                  "18.0",
                  "S"
                ],
                [
                  "19",
                  "1",
                  "3",
                  "female",
                  "29.69911764705882",
                  "0",
                  "0",
                  "7.225",
                  "C"
                ],
                [
                  "20",
                  "0",
                  "2",
                  "male",
                  "35.0",
                  "0",
                  "0",
                  "26.0",
                  "S"
                ],
                [
                  "21",
                  "1",
                  "2",
                  "male",
                  "34.0",
                  "0",
                  "0",
                  "13.0",
                  "S"
                ],
                [
                  "22",
                  "1",
                  "3",
                  "female",
                  "15.0",
                  "0",
                  "0",
                  "8.0292",
                  "Q"
                ],
                [
                  "23",
                  "1",
                  "1",
                  "male",
                  "28.0",
                  "0",
                  "0",
                  "35.5",
                  "S"
                ],
                [
                  "24",
                  "0",
                  "3",
                  "female",
                  "8.0",
                  "3",
                  "1",
                  "21.075",
                  "S"
                ],
                [
                  "25",
                  "1",
                  "3",
                  "female",
                  "38.0",
                  "1",
                  "5",
                  "31.3875",
                  "S"
                ],
                [
                  "26",
                  "0",
                  "3",
                  "male",
                  "29.69911764705882",
                  "0",
                  "0",
                  "7.225",
                  "C"
                ],
                [
                  "27",
                  "0",
                  "1",
                  "male",
                  "19.0",
                  "3",
                  "2",
                  "263.0",
                  "S"
                ],
                [
                  "28",
                  "1",
                  "3",
                  "female",
                  "29.69911764705882",
                  "0",
                  "0",
                  "7.8792",
                  "Q"
                ],
                [
                  "29",
                  "0",
                  "3",
                  "male",
                  "29.69911764705882",
                  "0",
                  "0",
                  "7.8958",
                  "S"
                ],
                [
                  "30",
                  "0",
                  "1",
                  "male",
                  "40.0",
                  "0",
                  "0",
                  "27.7208",
                  "C"
                ],
                [
                  "31",
                  "1",
                  "1",
                  "female",
                  "29.69911764705882",
                  "1",
                  "0",
                  "146.5208",
                  "C"
                ],
                [
                  "32",
                  "1",
                  "3",
                  "female",
                  "29.69911764705882",
                  "0",
                  "0",
                  "7.75",
                  "Q"
                ],
                [
                  "33",
                  "0",
                  "2",
                  "male",
                  "66.0",
                  "0",
                  "0",
                  "10.5",
                  "S"
                ],
                [
                  "34",
                  "0",
                  "1",
                  "male",
                  "28.0",
                  "1",
                  "0",
                  "82.1708",
                  "C"
                ],
                [
                  "35",
                  "0",
                  "1",
                  "male",
                  "42.0",
                  "1",
                  "0",
                  "52.0",
                  "S"
                ],
                [
                  "36",
                  "1",
                  "3",
                  "male",
                  "29.69911764705882",
                  "0",
                  "0",
                  "7.2292",
                  "C"
                ],
                [
                  "37",
                  "0",
                  "3",
                  "male",
                  "21.0",
                  "0",
                  "0",
                  "8.05",
                  "S"
                ],
                [
                  "38",
                  "0",
                  "3",
                  "female",
                  "18.0",
                  "2",
                  "0",
                  "18.0",
                  "S"
                ],
                [
                  "39",
                  "1",
                  "3",
                  "female",
                  "14.0",
                  "1",
                  "0",
                  "11.2417",
                  "C"
                ],
                [
                  "40",
                  "0",
                  "3",
                  "female",
                  "40.0",
                  "1",
                  "0",
                  "9.475",
                  "S"
                ],
                [
                  "41",
                  "0",
                  "2",
                  "female",
                  "27.0",
                  "1",
                  "0",
                  "21.0",
                  "S"
                ],
                [
                  "42",
                  "0",
                  "3",
                  "male",
                  "29.69911764705882",
                  "0",
                  "0",
                  "7.8958",
                  "C"
                ],
                [
                  "43",
                  "1",
                  "2",
                  "female",
                  "3.0",
                  "1",
                  "2",
                  "41.5792",
                  "C"
                ],
                [
                  "44",
                  "1",
                  "3",
                  "female",
                  "19.0",
                  "0",
                  "0",
                  "7.8792",
                  "Q"
                ],
                [
                  "45",
                  "0",
                  "3",
                  "male",
                  "29.69911764705882",
                  "0",
                  "0",
                  "8.05",
                  "S"
                ],
                [
                  "46",
                  "0",
                  "3",
                  "male",
                  "29.69911764705882",
                  "1",
                  "0",
                  "15.5",
                  "Q"
                ],
                [
                  "47",
                  "1",
                  "3",
                  "female",
                  "29.69911764705882",
                  "0",
                  "0",
                  "7.75",
                  "Q"
                ],
                [
                  "48",
                  "0",
                  "3",
                  "male",
                  "29.69911764705882",
                  "2",
                  "0",
                  "21.6792",
                  "C"
                ],
                [
                  "49",
                  "0",
                  "3",
                  "female",
                  "18.0",
                  "1",
                  "0",
                  "17.8",
                  "S"
                ]
              ],
              "shape": {
                "columns": 8,
                "rows": 891
              }
            },
            "text/html": [
              "<div>\n",
              "<style scoped>\n",
              "    .dataframe tbody tr th:only-of-type {\n",
              "        vertical-align: middle;\n",
              "    }\n",
              "\n",
              "    .dataframe tbody tr th {\n",
              "        vertical-align: top;\n",
              "    }\n",
              "\n",
              "    .dataframe thead th {\n",
              "        text-align: right;\n",
              "    }\n",
              "</style>\n",
              "<table border=\"1\" class=\"dataframe\">\n",
              "  <thead>\n",
              "    <tr style=\"text-align: right;\">\n",
              "      <th></th>\n",
              "      <th>Survived</th>\n",
              "      <th>Pclass</th>\n",
              "      <th>Sex</th>\n",
              "      <th>Age</th>\n",
              "      <th>SibSp</th>\n",
              "      <th>Parch</th>\n",
              "      <th>Fare</th>\n",
              "      <th>Embarked</th>\n",
              "    </tr>\n",
              "  </thead>\n",
              "  <tbody>\n",
              "    <tr>\n",
              "      <th>0</th>\n",
              "      <td>0</td>\n",
              "      <td>3</td>\n",
              "      <td>male</td>\n",
              "      <td>22.000000</td>\n",
              "      <td>1</td>\n",
              "      <td>0</td>\n",
              "      <td>7.2500</td>\n",
              "      <td>S</td>\n",
              "    </tr>\n",
              "    <tr>\n",
              "      <th>1</th>\n",
              "      <td>1</td>\n",
              "      <td>1</td>\n",
              "      <td>female</td>\n",
              "      <td>38.000000</td>\n",
              "      <td>1</td>\n",
              "      <td>0</td>\n",
              "      <td>71.2833</td>\n",
              "      <td>C</td>\n",
              "    </tr>\n",
              "    <tr>\n",
              "      <th>2</th>\n",
              "      <td>1</td>\n",
              "      <td>3</td>\n",
              "      <td>female</td>\n",
              "      <td>26.000000</td>\n",
              "      <td>0</td>\n",
              "      <td>0</td>\n",
              "      <td>7.9250</td>\n",
              "      <td>S</td>\n",
              "    </tr>\n",
              "    <tr>\n",
              "      <th>3</th>\n",
              "      <td>1</td>\n",
              "      <td>1</td>\n",
              "      <td>female</td>\n",
              "      <td>35.000000</td>\n",
              "      <td>1</td>\n",
              "      <td>0</td>\n",
              "      <td>53.1000</td>\n",
              "      <td>S</td>\n",
              "    </tr>\n",
              "    <tr>\n",
              "      <th>4</th>\n",
              "      <td>0</td>\n",
              "      <td>3</td>\n",
              "      <td>male</td>\n",
              "      <td>35.000000</td>\n",
              "      <td>0</td>\n",
              "      <td>0</td>\n",
              "      <td>8.0500</td>\n",
              "      <td>S</td>\n",
              "    </tr>\n",
              "    <tr>\n",
              "      <th>...</th>\n",
              "      <td>...</td>\n",
              "      <td>...</td>\n",
              "      <td>...</td>\n",
              "      <td>...</td>\n",
              "      <td>...</td>\n",
              "      <td>...</td>\n",
              "      <td>...</td>\n",
              "      <td>...</td>\n",
              "    </tr>\n",
              "    <tr>\n",
              "      <th>886</th>\n",
              "      <td>0</td>\n",
              "      <td>2</td>\n",
              "      <td>male</td>\n",
              "      <td>27.000000</td>\n",
              "      <td>0</td>\n",
              "      <td>0</td>\n",
              "      <td>13.0000</td>\n",
              "      <td>S</td>\n",
              "    </tr>\n",
              "    <tr>\n",
              "      <th>887</th>\n",
              "      <td>1</td>\n",
              "      <td>1</td>\n",
              "      <td>female</td>\n",
              "      <td>19.000000</td>\n",
              "      <td>0</td>\n",
              "      <td>0</td>\n",
              "      <td>30.0000</td>\n",
              "      <td>S</td>\n",
              "    </tr>\n",
              "    <tr>\n",
              "      <th>888</th>\n",
              "      <td>0</td>\n",
              "      <td>3</td>\n",
              "      <td>female</td>\n",
              "      <td>29.699118</td>\n",
              "      <td>1</td>\n",
              "      <td>2</td>\n",
              "      <td>23.4500</td>\n",
              "      <td>S</td>\n",
              "    </tr>\n",
              "    <tr>\n",
              "      <th>889</th>\n",
              "      <td>1</td>\n",
              "      <td>1</td>\n",
              "      <td>male</td>\n",
              "      <td>26.000000</td>\n",
              "      <td>0</td>\n",
              "      <td>0</td>\n",
              "      <td>30.0000</td>\n",
              "      <td>C</td>\n",
              "    </tr>\n",
              "    <tr>\n",
              "      <th>890</th>\n",
              "      <td>0</td>\n",
              "      <td>3</td>\n",
              "      <td>male</td>\n",
              "      <td>32.000000</td>\n",
              "      <td>0</td>\n",
              "      <td>0</td>\n",
              "      <td>7.7500</td>\n",
              "      <td>Q</td>\n",
              "    </tr>\n",
              "  </tbody>\n",
              "</table>\n",
              "<p>891 rows × 8 columns</p>\n",
              "</div>"
            ],
            "text/plain": [
              "     Survived  Pclass     Sex        Age  SibSp  Parch     Fare Embarked\n",
              "0           0       3    male  22.000000      1      0   7.2500        S\n",
              "1           1       1  female  38.000000      1      0  71.2833        C\n",
              "2           1       3  female  26.000000      0      0   7.9250        S\n",
              "3           1       1  female  35.000000      1      0  53.1000        S\n",
              "4           0       3    male  35.000000      0      0   8.0500        S\n",
              "..        ...     ...     ...        ...    ...    ...      ...      ...\n",
              "886         0       2    male  27.000000      0      0  13.0000        S\n",
              "887         1       1  female  19.000000      0      0  30.0000        S\n",
              "888         0       3  female  29.699118      1      2  23.4500        S\n",
              "889         1       1    male  26.000000      0      0  30.0000        C\n",
              "890         0       3    male  32.000000      0      0   7.7500        Q\n",
              "\n",
              "[891 rows x 8 columns]"
            ]
          },
          "execution_count": 9,
          "metadata": {},
          "output_type": "execute_result"
        }
      ],
      "source": [
        "#handling the missing\n",
        "data['Embarked']=data['Embarked'].fillna(data['Embarked'].mode()[0])\n",
        "data['Age'] = data['Age'].fillna(data['Age'].mean())\n",
        "data.info()\n",
        "data\n"
      ]
    },
    {
      "cell_type": "code",
      "execution_count": 10,
      "id": "fae64962",
      "metadata": {},
      "outputs": [
        {
          "data": {
            "application/vnd.microsoft.datawrangler.viewer.v0+json": {
              "columns": [
                {
                  "name": "Embarked",
                  "rawType": "int64",
                  "type": "integer"
                },
                {
                  "name": "count",
                  "rawType": "int64",
                  "type": "integer"
                }
              ],
              "ref": "217edae7-2014-4110-af50-67a26b8260cf",
              "rows": [
                [
                  "2",
                  "646"
                ],
                [
                  "0",
                  "168"
                ],
                [
                  "1",
                  "77"
                ]
              ],
              "shape": {
                "columns": 1,
                "rows": 3
              }
            },
            "text/plain": [
              "Embarked\n",
              "2    646\n",
              "0    168\n",
              "1     77\n",
              "Name: count, dtype: int64"
            ]
          },
          "execution_count": 10,
          "metadata": {},
          "output_type": "execute_result"
        }
      ],
      "source": [
        "#label Encoding\n",
        "from sklearn.preprocessing import LabelEncoder\n",
        "le = LabelEncoder()\n",
        "data['Sex'] = le.fit_transform(data['Sex'])\n",
        "data['Embarked'] = le.fit_transform(data['Embarked'])\n",
        "data['Embarked'].value_counts()\n"
      ]
    },
    {
      "cell_type": "code",
      "execution_count": 11,
      "id": "da0feb73",
      "metadata": {},
      "outputs": [
        {
          "data": {
            "text/plain": [
              "<Axes: >"
            ]
          },
          "execution_count": 11,
          "metadata": {},
          "output_type": "execute_result"
        },
        {
          "data": {
            "image/png": "[encoded data removed]",
            "text/plain": [
              "<Figure size 640x480 with 2 Axes>"
            ]
          },
          "metadata": {},
          "output_type": "display_data"
        }
      ],
      "source": [
        "cor_mat = data.corr()\n",
        "sns.heatmap(cor_mat,annot=True,linewidths=0.5)"
      ]
    },
    {
      "cell_type": "code",
      "execution_count": 12,
      "id": "bba3549f",
      "metadata": {},
      "outputs": [
        {
          "data": {
            "text/plain": [
              "<Axes: >"
            ]
          },
          "execution_count": 12,
          "metadata": {},
          "output_type": "execute_result"
        },
        {
          "data": {
            "image/png": "[encoded data removed]",
            "text/plain": [
              "<Figure size 640x480 with 2 Axes>"
            ]
          },
          "metadata": {},
          "output_type": "display_data"
        }
      ],
      "source": [
        "data.drop(columns=['SibSp'],inplace=True,errors='ignoew')\n",
        "sns.heatmap(data.corr(),annot=True,linewidths=0.5)"
      ]
    },
    {
      "cell_type": "code",
      "execution_count": 13,
      "id": "1cc66bd0",
      "metadata": {},
      "outputs": [
        {
          "data": {
            "application/vnd.microsoft.datawrangler.viewer.v0+json": {
              "columns": [
                {
                  "name": "index",
                  "rawType": "int64",
                  "type": "integer"
                },
                {
                  "name": "Pclass",
                  "rawType": "int64",
                  "type": "integer"
                },
                {
                  "name": "Sex",
                  "rawType": "int64",
                  "type": "integer"
                },
                {
                  "name": "Fare",
                  "rawType": "float64",
                  "type": "float"
                }
              ],
              "ref": "4335e5f4-5fa5-4f0b-a288-d143e3e3c143",
              "rows": [
                [
                  "0",
                  "3",
                  "1",
                  "7.25"
                ],
                [
                  "1",
                  "1",
                  "0",
                  "71.2833"
                ],
                [
                  "2",
                  "3",
                  "0",
                  "7.925"
                ],
                [
                  "3",
                  "1",
                  "0",
                  "53.1"
                ],
                [
                  "4",
                  "3",
                  "1",
                  "8.05"
                ],
                [
                  "5",
                  "3",
                  "1",
                  "8.4583"
                ],
                [
                  "6",
                  "1",
                  "1",
                  "51.8625"
                ],
                [
                  "7",
                  "3",
                  "1",
                  "21.075"
                ],
                [
                  "8",
                  "3",
                  "0",
                  "11.1333"
                ],
                [
                  "9",
                  "2",
                  "0",
                  "30.0708"
                ],
                [
                  "10",
                  "3",
                  "0",
                  "16.7"
                ],
                [
                  "11",
                  "1",
                  "0",
                  "26.55"
                ],
                [
                  "12",
                  "3",
                  "1",
                  "8.05"
                ],
                [
                  "13",
                  "3",
                  "1",
                  "31.275"
                ],
                [
                  "14",
                  "3",
                  "0",
                  "7.8542"
                ],
                [
                  "15",
                  "2",
                  "0",
                  "16.0"
                ],
                [
                  "16",
                  "3",
                  "1",
                  "29.125"
                ],
                [
                  "17",
                  "2",
                  "1",
                  "13.0"
                ],
                [
                  "18",
                  "3",
                  "0",
                  "18.0"
                ],
                [
                  "19",
                  "3",
                  "0",
                  "7.225"
                ],
                [
                  "20",
                  "2",
                  "1",
                  "26.0"
                ],
                [
                  "21",
                  "2",
                  "1",
                  "13.0"
                ],
                [
                  "22",
                  "3",
                  "0",
                  "8.0292"
                ],
                [
                  "23",
                  "1",
                  "1",
                  "35.5"
                ],
                [
                  "24",
                  "3",
                  "0",
                  "21.075"
                ],
                [
                  "25",
                  "3",
                  "0",
                  "31.3875"
                ],
                [
                  "26",
                  "3",
                  "1",
                  "7.225"
                ],
                [
                  "27",
                  "1",
                  "1",
                  "263.0"
                ],
                [
                  "28",
                  "3",
                  "0",
                  "7.8792"
                ],
                [
                  "29",
                  "3",
                  "1",
                  "7.8958"
                ],
                [
                  "30",
                  "1",
                  "1",
                  "27.7208"
                ],
                [
                  "31",
                  "1",
                  "0",
                  "146.5208"
                ],
                [
                  "32",
                  "3",
                  "0",
                  "7.75"
                ],
                [
                  "33",
                  "2",
                  "1",
                  "10.5"
                ],
                [
                  "34",
                  "1",
                  "1",
                  "82.1708"
                ],
                [
                  "35",
                  "1",
                  "1",
                  "52.0"
                ],
                [
                  "36",
                  "3",
                  "1",
                  "7.2292"
                ],
                [
                  "37",
                  "3",
                  "1",
                  "8.05"
                ],
                [
                  "38",
                  "3",
                  "0",
                  "18.0"
                ],
                [
                  "39",
                  "3",
                  "0",
                  "11.2417"
                ],
                [
                  "40",
                  "3",
                  "0",
                  "9.475"
                ],
                [
                  "41",
                  "2",
                  "0",
                  "21.0"
                ],
                [
                  "42",
                  "3",
                  "1",
                  "7.8958"
                ],
                [
                  "43",
                  "2",
                  "0",
                  "41.5792"
                ],
                [
                  "44",
                  "3",
                  "0",
                  "7.8792"
                ],
                [
                  "45",
                  "3",
                  "1",
                  "8.05"
                ],
                [
                  "46",
                  "3",
                  "1",
                  "15.5"
                ],
                [
                  "47",
                  "3",
                  "0",
                  "7.75"
                ],
                [
                  "48",
                  "3",
                  "1",
                  "21.6792"
                ],
                [
                  "49",
                  "3",
                  "0",
                  "17.8"
                ]
              ],
              "shape": {
                "columns": 3,
                "rows": 891
              }
            },
            "text/html": [
              "<div>\n",
              "<style scoped>\n",
              "    .dataframe tbody tr th:only-of-type {\n",
              "        vertical-align: middle;\n",
              "    }\n",
              "\n",
              "    .dataframe tbody tr th {\n",
              "        vertical-align: top;\n",
              "    }\n",
              "\n",
              "    .dataframe thead th {\n",
              "        text-align: right;\n",
              "    }\n",
              "</style>\n",
              "<table border=\"1\" class=\"dataframe\">\n",
              "  <thead>\n",
              "    <tr style=\"text-align: right;\">\n",
              "      <th></th>\n",
              "      <th>Pclass</th>\n",
              "      <th>Sex</th>\n",
              "      <th>Fare</th>\n",
              "    </tr>\n",
              "  </thead>\n",
              "  <tbody>\n",
              "    <tr>\n",
              "      <th>0</th>\n",
              "      <td>3</td>\n",
              "      <td>1</td>\n",
              "      <td>7.2500</td>\n",
              "    </tr>\n",
              "    <tr>\n",
              "      <th>1</th>\n",
              "      <td>1</td>\n",
              "      <td>0</td>\n",
              "      <td>71.2833</td>\n",
              "    </tr>\n",
              "    <tr>\n",
              "      <th>2</th>\n",
              "      <td>3</td>\n",
              "      <td>0</td>\n",
              "      <td>7.9250</td>\n",
              "    </tr>\n",
              "    <tr>\n",
              "      <th>3</th>\n",
              "      <td>1</td>\n",
              "      <td>0</td>\n",
              "      <td>53.1000</td>\n",
              "    </tr>\n",
              "    <tr>\n",
              "      <th>4</th>\n",
              "      <td>3</td>\n",
              "      <td>1</td>\n",
              "      <td>8.0500</td>\n",
              "    </tr>\n",
              "    <tr>\n",
              "      <th>...</th>\n",
              "      <td>...</td>\n",
              "      <td>...</td>\n",
              "      <td>...</td>\n",
              "    </tr>\n",
              "    <tr>\n",
              "      <th>886</th>\n",
              "      <td>2</td>\n",
              "      <td>1</td>\n",
              "      <td>13.0000</td>\n",
              "    </tr>\n",
              "    <tr>\n",
              "      <th>887</th>\n",
              "      <td>1</td>\n",
              "      <td>0</td>\n",
              "      <td>30.0000</td>\n",
              "    </tr>\n",
              "    <tr>\n",
              "      <th>888</th>\n",
              "      <td>3</td>\n",
              "      <td>0</td>\n",
              "      <td>23.4500</td>\n",
              "    </tr>\n",
              "    <tr>\n",
              "      <th>889</th>\n",
              "      <td>1</td>\n",
              "      <td>1</td>\n",
              "      <td>30.0000</td>\n",
              "    </tr>\n",
              "    <tr>\n",
              "      <th>890</th>\n",
              "      <td>3</td>\n",
              "      <td>1</td>\n",
              "      <td>7.7500</td>\n",
              "    </tr>\n",
              "  </tbody>\n",
              "</table>\n",
              "<p>891 rows × 3 columns</p>\n",
              "</div>"
            ],
            "text/plain": [
              "     Pclass  Sex     Fare\n",
              "0         3    1   7.2500\n",
              "1         1    0  71.2833\n",
              "2         3    0   7.9250\n",
              "3         1    0  53.1000\n",
              "4         3    1   8.0500\n",
              "..      ...  ...      ...\n",
              "886       2    1  13.0000\n",
              "887       1    0  30.0000\n",
              "888       3    0  23.4500\n",
              "889       1    1  30.0000\n",
              "890       3    1   7.7500\n",
              "\n",
              "[891 rows x 3 columns]"
            ]
          },
          "execution_count": 13,
          "metadata": {},
          "output_type": "execute_result"
        }
      ],
      "source": [
        "y=data.iloc[:,0]\n",
        "x=data.iloc[:,1:]\n",
        "y=y.values.ravel()\n",
        "from sklearn.feature_selection import SelectKBest,chi2\n",
        "k_best = SelectKBest(chi2,k=3)\n",
        "best_features = k_best.fit_transform(x,y)\n",
        "x=x.iloc[:,k_best.get_support()]\n",
        "x"
      ]
    },
    {
      "cell_type": "code",
      "execution_count": 14,
      "id": "2652fddd",
      "metadata": {},
      "outputs": [
        {
          "name": "stdout",
          "output_type": "stream",
          "text": [
            "Accuracy :  0.7761194029850746\n"
          ]
        }
      ],
      "source": [
        "# naive bayes\n",
        "from sklearn.model_selection import train_test_split\n",
        "from sklearn.naive_bayes import GaussianNB\n",
        "from sklearn.metrics import accuracy_score\n",
        "\n",
        "x_train,x_test,y_train,y_test=train_test_split(x,y,test_size=0.3,random_state=32)\n",
        "\n",
        "model = GaussianNB()\n",
        "model.fit(x_train,y_train)\n",
        "y_pred=model.predict(x_test)\n",
        "\n",
        "print(\"Accuracy : \",accuracy_score(y_test,y_pred))"
      ]
    },
    {
      "cell_type": "code",
      "execution_count": 15,
      "id": "fa949d68",
      "metadata": {},
      "outputs": [
        {
          "data": {
            "text/plain": [
              "{'DT': DecisionTreeClassifier(criterion='entropy', max_depth=5),\n",
              " 'SVM': SVC(C=0.1, kernel='linear'),\n",
              " 'KNN': KNeighborsClassifier(n_neighbors=25, weights='distance')}"
            ]
          },
          "execution_count": 15,
          "metadata": {},
          "output_type": "execute_result"
        }
      ],
      "source": [
        "from sklearn.model_selection import GridSearchCV\n",
        "from sklearn.tree import DecisionTreeClassifier\n",
        "from sklearn.svm import SVC\n",
        "from sklearn.neighbors import KNeighborsClassifier\n",
        "import math\n",
        "\n",
        "models = {\n",
        "    \"DT\" : DecisionTreeClassifier(),\n",
        "    \"SVM\": SVC(),\n",
        "    \"KNN\":KNeighborsClassifier()\n",
        "}\n",
        "\n",
        "params = {\n",
        "    \"DT\": {\n",
        "        \"criterion\":[\"gini\",\"entropy\"],\n",
        "        \"max_depth\":[2,5,7,9],\n",
        "    },\n",
        "    \"SVM\" : {\n",
        "        \"kernel\":['linear', 'poly', 'rbf', 'sigmoid'],\n",
        "        \"C\":[0.01,0.1,1,0.05,0.5]\n",
        "    },\n",
        "    \"KNN\" : {\n",
        "        \"n_neighbors\":[15,25,35,int(math.sqrt(len(x)))],\n",
        "        \"weights\":[\"distance\",\"uniform\"]\n",
        "    }\n",
        "}\n",
        "\n",
        "best_models = {}\n",
        "\n",
        "for algo in models:\n",
        "    grid = GridSearchCV(estimator=models[algo],param_grid=params[algo],cv=5,scoring='accuracy',n_jobs=-1)\n",
        "    grid.fit(x_train, y_train)\n",
        "    best_models[algo] = grid.best_estimator_\n",
        "    \n",
        "best_models"
      ]
    },
    {
      "cell_type": "code",
      "execution_count": 16,
      "id": "58e0ae0a",
      "metadata": {},
      "outputs": [
        {
          "name": "stdout",
          "output_type": "stream",
          "text": [
            "Accuracy Score of DT :  0.8059701492537313\n",
            "Accuracy Score of SVM :  0.7873134328358209\n",
            "Accuracy Score of KNN :  0.7985074626865671\n"
          ]
        },
        {
          "data": {
            "text/plain": [
              "{'DT': DecisionTreeClassifier(criterion='entropy', max_depth=5),\n",
              " 'SVM': SVC(C=0.1, kernel='linear'),\n",
              " 'KNN': KNeighborsClassifier(n_neighbors=25, weights='distance')}"
            ]
          },
          "execution_count": 16,
          "metadata": {},
          "output_type": "execute_result"
        }
      ],
      "source": [
        "trained_models = {}\n",
        "for tunned in best_models:\n",
        "    model = best_models[tunned]\n",
        "    model.fit(x_train,y_train)\n",
        "    y_pred = model.predict(x_test)\n",
        "    print(f\"Accuracy Score of {tunned} : \",accuracy_score(y_test,y_pred))\n",
        "    trained_models[tunned]=model\n",
        "\n",
        "trained_models"
      ]
    },
    {
      "cell_type": "code",
      "execution_count": 17,
      "id": "90a28c96",
      "metadata": {},
      "outputs": [
        {
          "ename": "ValueError",
          "evalue": "invalid literal for int() with base 10: ''",
          "output_type": "error",
          "traceback": [
            "\u001b[31m---------------------------------------------------------------------------\u001b[39m",
            "\u001b[31mValueError\u001b[39m                                Traceback (most recent call last)",
            "\u001b[36mCell\u001b[39m\u001b[36m \u001b[39m\u001b[32mIn[17]\u001b[39m\u001b[32m, line 1\u001b[39m\n\u001b[32m----> \u001b[39m\u001b[32m1\u001b[39m pclass = \u001b[38;5;28;43mint\u001b[39;49m\u001b[43m(\u001b[49m\u001b[38;5;28;43minput\u001b[39;49m\u001b[43m(\u001b[49m\u001b[33;43m\"\u001b[39;49m\u001b[33;43mEnter the pclass 1 to 3\u001b[39;49m\u001b[33;43m\"\u001b[39;49m\u001b[43m)\u001b[49m\u001b[43m)\u001b[49m\n\u001b[32m      2\u001b[39m sex =  \u001b[38;5;28mint\u001b[39m(\u001b[38;5;28minput\u001b[39m(\u001b[33m'\u001b[39m\u001b[33mEnter the sex : 0 for female, 1 for male\u001b[39m\u001b[33m'\u001b[39m))\n\u001b[32m      3\u001b[39m fare = \u001b[38;5;28mfloat\u001b[39m(\u001b[38;5;28minput\u001b[39m(\u001b[33m'\u001b[39m\u001b[33mEnter the fare\u001b[39m\u001b[33m'\u001b[39m))\n",
            "\u001b[31mValueError\u001b[39m: invalid literal for int() with base 10: ''"
          ]
        }
      ],
      "source": [
        "pclass = int(input(\"Enter the pclass 1 to 3\"))\n",
        "sex =  int(input('Enter the sex : 0 for female, 1 for male'))\n",
        "fare = float(input('Enter the fare'))\n",
        "\n",
        "customData = pd.DataFrame([[pclass,sex,fare]],columns=x_train.columns)\n",
        "customData\n",
        "\n",
        "for model in trained_models:\n",
        "    result = trained_models[model].predict(customData)\n",
        "    print(f\"Result of {model}:\",result[0])"
      ]
    }
  ],
  "metadata": {
    "kernelspec": {
      "display_name": "Python 3",
      "language": "python",
      "name": "python3"
    },
    "language_info": {
      "codemirror_mode": {
        "name": "ipython",
        "version": 3
      },
      "file_extension": ".py",
      "mimetype": "text/x-python",
      "name": "python",
      "nbconvert_exporter": "python",
      "pygments_lexer": "ipython3",
      "version": "3.13.7"
    }
  },
  "nbformat": 4,
  "nbformat_minor": 5
}
