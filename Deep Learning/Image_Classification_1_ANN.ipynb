{
 "cells": [
  {
   "cell_type": "code",
   "execution_count": 105,
   "id": "c21d07d4",
   "metadata": {},
   "outputs": [],
   "source": [
    "import numpy as np\n",
    "import pandas as pd\n",
    "from tensorflow import keras\n",
    "from keras import layers\n",
    "\n",
    "(x_train, y_train), (x_test, y_test) = keras.datasets.fashion_mnist.load_data()"
   ]
  },
  {
   "cell_type": "code",
   "execution_count": 85,
   "id": "b0154668",
   "metadata": {},
   "outputs": [
    {
     "data": {
      "text/plain": [
       "(60000, 28, 28)"
      ]
     },
     "execution_count": 85,
     "metadata": {},
     "output_type": "execute_result"
    }
   ],
   "source": [
    "x_train.shape"
   ]
  },
  {
   "cell_type": "code",
   "execution_count": 86,
   "id": "2ce39567",
   "metadata": {},
   "outputs": [
    {
     "data": {
      "text/plain": [
       "<matplotlib.image.AxesImage at 0x1374ac7bed0>"
      ]
     },
     "execution_count": 86,
     "metadata": {},
     "output_type": "execute_result"
    },
    {
     "data": {
      "image/png": "[encoded data removed]",
      "text/plain": [
       "<Figure size 480x480 with 1 Axes>"
      ]
     },
     "metadata": {},
     "output_type": "display_data"
    }
   ],
   "source": [
    "def get_image(index,dataset):\n",
    "    x = {\n",
    "        'train': x_train,\n",
    "        'test': x_test\n",
    "    }\n",
    "    import matplotlib.pyplot as plt\n",
    "    return plt.matshow(x[dataset][index])\n",
    "\n",
    "get_image(0,'train')"
   ]
  },
  {
   "cell_type": "code",
   "execution_count": 87,
   "id": "ee2fbdbe",
   "metadata": {},
   "outputs": [
    {
     "data": {
      "text/plain": [
       "'Ankle boot'"
      ]
     },
     "execution_count": 87,
     "metadata": {},
     "output_type": "execute_result"
    }
   ],
   "source": [
    "def get_image_category(index):\n",
    "    img_category = ['T-shirt/top','Trouser','Pullover','Dress','Coat','Sandal','Shirt','Sneaker','Bag','Ankle boot']\n",
    "    return img_category[y_train[index]]\n",
    "\n",
    "get_image_category(0)\n"
   ]
  },
  {
   "cell_type": "code",
   "execution_count": 88,
   "id": "4c4a6284",
   "metadata": {},
   "outputs": [
    {
     "name": "stdout",
     "output_type": "stream",
     "text": [
      "Shape of x-train :  (60000, 28, 28)\n",
      "Shape of y-train-categorical :  (60000, 10)\n"
     ]
    }
   ],
   "source": [
    "y_train_cat = keras.utils.to_categorical(y_train,10)\n",
    "y_test_cat = keras.utils.to_categorical(y_test,10)\n",
    "\n",
    "print(\"Shape of x-train : \",x_train.shape,end='\\n')\n",
    "print(\"Shape of y-train-categorical : \",y_train_cat.shape,end='\\n')"
   ]
  },
  {
   "cell_type": "code",
   "execution_count": 89,
   "id": "cacd9e32",
   "metadata": {},
   "outputs": [
    {
     "name": "stderr",
     "output_type": "stream",
     "text": [
      "C:\\Users\\Rogul\\AppData\\Roaming\\Python\\Python313\\site-packages\\keras\\src\\layers\\reshaping\\flatten.py:37: UserWarning: Do not pass an `input_shape`/`input_dim` argument to a layer. When using Sequential models, prefer using an `Input(shape)` object as the first layer in the model instead.\n",
      "  super().__init__(**kwargs)\n"
     ]
    },
    {
     "data": {
      "text/html": [
       "<pre style=\"white-space:pre;overflow-x:auto;line-height:normal;font-family:Menlo,'DejaVu Sans Mono',consolas,'Courier New',monospace\"><span style=\"font-weight: bold\">Model: \"sequential_12\"</span>\n",
       "</pre>\n"
      ],
      "text/plain": [
       "\u001b[1mModel: \"sequential_12\"\u001b[0m\n"
      ]
     },
     "metadata": {},
     "output_type": "display_data"
    },
    {
     "data": {
      "text/html": [
       "<pre style=\"white-space:pre;overflow-x:auto;line-height:normal;font-family:Menlo,'DejaVu Sans Mono',consolas,'Courier New',monospace\">┏━━━━━━━━━━━━━━━━━━━━━━━━━━━━━━━━━┳━━━━━━━━━━━━━━━━━━━━━━━━┳━━━━━━━━━━━━━━━┓\n",
       "┃<span style=\"font-weight: bold\"> Layer (type)                    </span>┃<span style=\"font-weight: bold\"> Output Shape           </span>┃<span style=\"font-weight: bold\">       Param # </span>┃\n",
       "┡━━━━━━━━━━━━━━━━━━━━━━━━━━━━━━━━━╇━━━━━━━━━━━━━━━━━━━━━━━━╇━━━━━━━━━━━━━━━┩\n",
       "│ flatten_14 (<span style=\"color: #0087ff; text-decoration-color: #0087ff\">Flatten</span>)            │ (<span style=\"color: #00d7ff; text-decoration-color: #00d7ff\">None</span>, <span style=\"color: #00af00; text-decoration-color: #00af00\">784</span>)            │             <span style=\"color: #00af00; text-decoration-color: #00af00\">0</span> │\n",
       "├─────────────────────────────────┼────────────────────────┼───────────────┤\n",
       "│ dense_61 (<span style=\"color: #0087ff; text-decoration-color: #0087ff\">Dense</span>)                │ (<span style=\"color: #00d7ff; text-decoration-color: #00d7ff\">None</span>, <span style=\"color: #00af00; text-decoration-color: #00af00\">400</span>)            │       <span style=\"color: #00af00; text-decoration-color: #00af00\">314,000</span> │\n",
       "├─────────────────────────────────┼────────────────────────┼───────────────┤\n",
       "│ dense_62 (<span style=\"color: #0087ff; text-decoration-color: #0087ff\">Dense</span>)                │ (<span style=\"color: #00d7ff; text-decoration-color: #00d7ff\">None</span>, <span style=\"color: #00af00; text-decoration-color: #00af00\">200</span>)            │        <span style=\"color: #00af00; text-decoration-color: #00af00\">80,200</span> │\n",
       "├─────────────────────────────────┼────────────────────────┼───────────────┤\n",
       "│ dense_63 (<span style=\"color: #0087ff; text-decoration-color: #0087ff\">Dense</span>)                │ (<span style=\"color: #00d7ff; text-decoration-color: #00d7ff\">None</span>, <span style=\"color: #00af00; text-decoration-color: #00af00\">100</span>)            │        <span style=\"color: #00af00; text-decoration-color: #00af00\">20,100</span> │\n",
       "├─────────────────────────────────┼────────────────────────┼───────────────┤\n",
       "│ dense_64 (<span style=\"color: #0087ff; text-decoration-color: #0087ff\">Dense</span>)                │ (<span style=\"color: #00d7ff; text-decoration-color: #00d7ff\">None</span>, <span style=\"color: #00af00; text-decoration-color: #00af00\">50</span>)             │         <span style=\"color: #00af00; text-decoration-color: #00af00\">5,050</span> │\n",
       "├─────────────────────────────────┼────────────────────────┼───────────────┤\n",
       "│ dense_65 (<span style=\"color: #0087ff; text-decoration-color: #0087ff\">Dense</span>)                │ (<span style=\"color: #00d7ff; text-decoration-color: #00d7ff\">None</span>, <span style=\"color: #00af00; text-decoration-color: #00af00\">10</span>)             │           <span style=\"color: #00af00; text-decoration-color: #00af00\">510</span> │\n",
       "└─────────────────────────────────┴────────────────────────┴───────────────┘\n",
       "</pre>\n"
      ],
      "text/plain": [
       "┏━━━━━━━━━━━━━━━━━━━━━━━━━━━━━━━━━┳━━━━━━━━━━━━━━━━━━━━━━━━┳━━━━━━━━━━━━━━━┓\n",
       "┃\u001b[1m \u001b[0m\u001b[1mLayer (type)                   \u001b[0m\u001b[1m \u001b[0m┃\u001b[1m \u001b[0m\u001b[1mOutput Shape          \u001b[0m\u001b[1m \u001b[0m┃\u001b[1m \u001b[0m\u001b[1m      Param #\u001b[0m\u001b[1m \u001b[0m┃\n",
       "┡━━━━━━━━━━━━━━━━━━━━━━━━━━━━━━━━━╇━━━━━━━━━━━━━━━━━━━━━━━━╇━━━━━━━━━━━━━━━┩\n",
       "│ flatten_14 (\u001b[38;5;33mFlatten\u001b[0m)            │ (\u001b[38;5;45mNone\u001b[0m, \u001b[38;5;34m784\u001b[0m)            │             \u001b[38;5;34m0\u001b[0m │\n",
       "├─────────────────────────────────┼────────────────────────┼───────────────┤\n",
       "│ dense_61 (\u001b[38;5;33mDense\u001b[0m)                │ (\u001b[38;5;45mNone\u001b[0m, \u001b[38;5;34m400\u001b[0m)            │       \u001b[38;5;34m314,000\u001b[0m │\n",
       "├─────────────────────────────────┼────────────────────────┼───────────────┤\n",
       "│ dense_62 (\u001b[38;5;33mDense\u001b[0m)                │ (\u001b[38;5;45mNone\u001b[0m, \u001b[38;5;34m200\u001b[0m)            │        \u001b[38;5;34m80,200\u001b[0m │\n",
       "├─────────────────────────────────┼────────────────────────┼───────────────┤\n",
       "│ dense_63 (\u001b[38;5;33mDense\u001b[0m)                │ (\u001b[38;5;45mNone\u001b[0m, \u001b[38;5;34m100\u001b[0m)            │        \u001b[38;5;34m20,100\u001b[0m │\n",
       "├─────────────────────────────────┼────────────────────────┼───────────────┤\n",
       "│ dense_64 (\u001b[38;5;33mDense\u001b[0m)                │ (\u001b[38;5;45mNone\u001b[0m, \u001b[38;5;34m50\u001b[0m)             │         \u001b[38;5;34m5,050\u001b[0m │\n",
       "├─────────────────────────────────┼────────────────────────┼───────────────┤\n",
       "│ dense_65 (\u001b[38;5;33mDense\u001b[0m)                │ (\u001b[38;5;45mNone\u001b[0m, \u001b[38;5;34m10\u001b[0m)             │           \u001b[38;5;34m510\u001b[0m │\n",
       "└─────────────────────────────────┴────────────────────────┴───────────────┘\n"
      ]
     },
     "metadata": {},
     "output_type": "display_data"
    },
    {
     "data": {
      "text/html": [
       "<pre style=\"white-space:pre;overflow-x:auto;line-height:normal;font-family:Menlo,'DejaVu Sans Mono',consolas,'Courier New',monospace\"><span style=\"font-weight: bold\"> Total params: </span><span style=\"color: #00af00; text-decoration-color: #00af00\">419,860</span> (1.60 MB)\n",
       "</pre>\n"
      ],
      "text/plain": [
       "\u001b[1m Total params: \u001b[0m\u001b[38;5;34m419,860\u001b[0m (1.60 MB)\n"
      ]
     },
     "metadata": {},
     "output_type": "display_data"
    },
    {
     "data": {
      "text/html": [
       "<pre style=\"white-space:pre;overflow-x:auto;line-height:normal;font-family:Menlo,'DejaVu Sans Mono',consolas,'Courier New',monospace\"><span style=\"font-weight: bold\"> Trainable params: </span><span style=\"color: #00af00; text-decoration-color: #00af00\">419,860</span> (1.60 MB)\n",
       "</pre>\n"
      ],
      "text/plain": [
       "\u001b[1m Trainable params: \u001b[0m\u001b[38;5;34m419,860\u001b[0m (1.60 MB)\n"
      ]
     },
     "metadata": {},
     "output_type": "display_data"
    },
    {
     "data": {
      "text/html": [
       "<pre style=\"white-space:pre;overflow-x:auto;line-height:normal;font-family:Menlo,'DejaVu Sans Mono',consolas,'Courier New',monospace\"><span style=\"font-weight: bold\"> Non-trainable params: </span><span style=\"color: #00af00; text-decoration-color: #00af00\">0</span> (0.00 B)\n",
       "</pre>\n"
      ],
      "text/plain": [
       "\u001b[1m Non-trainable params: \u001b[0m\u001b[38;5;34m0\u001b[0m (0.00 B)\n"
      ]
     },
     "metadata": {},
     "output_type": "display_data"
    }
   ],
   "source": [
    "model = keras.Sequential(\n",
    "    [\n",
    "        keras.layers.Flatten(input_shape=(28,28)),\n",
    "        layers.Dense(400,activation='relu'),\n",
    "        layers.Dense(200,activation='relu'),\n",
    "        layers.Dense(100,activation='relu'),\n",
    "        layers.Dense(50,activation='relu'),\n",
    "        layers.Dense(10,activation='softmax')\n",
    "    ]\n",
    ")\n",
    "\n",
    "model.compile(\n",
    "    optimizer = 'adam',\n",
    "    loss = 'categorical_crossentropy',\n",
    "    metrics = ['accuracy']\n",
    ")\n",
    "\n",
    "model.summary()"
   ]
  },
  {
   "cell_type": "code",
   "execution_count": 90,
   "id": "85be6a22",
   "metadata": {},
   "outputs": [
    {
     "name": "stdout",
     "output_type": "stream",
     "text": [
      "Epoch 1/5\n",
      "\u001b[1m1875/1875\u001b[0m \u001b[32m━━━━━━━━━━━━━━━━━━━━\u001b[0m\u001b[37m\u001b[0m \u001b[1m11s\u001b[0m 5ms/step - accuracy: 0.7799 - loss: 1.1173\n",
      "Epoch 2/5\n",
      "\u001b[1m1875/1875\u001b[0m \u001b[32m━━━━━━━━━━━━━━━━━━━━\u001b[0m\u001b[37m\u001b[0m \u001b[1m9s\u001b[0m 5ms/step - accuracy: 0.8347 - loss: 0.4635\n",
      "Epoch 3/5\n",
      "\u001b[1m1875/1875\u001b[0m \u001b[32m━━━━━━━━━━━━━━━━━━━━\u001b[0m\u001b[37m\u001b[0m \u001b[1m8s\u001b[0m 4ms/step - accuracy: 0.8464 - loss: 0.4242\n",
      "Epoch 4/5\n",
      "\u001b[1m1875/1875\u001b[0m \u001b[32m━━━━━━━━━━━━━━━━━━━━\u001b[0m\u001b[37m\u001b[0m \u001b[1m8s\u001b[0m 4ms/step - accuracy: 0.8557 - loss: 0.3996\n",
      "Epoch 5/5\n",
      "\u001b[1m1875/1875\u001b[0m \u001b[32m━━━━━━━━━━━━━━━━━━━━\u001b[0m\u001b[37m\u001b[0m \u001b[1m8s\u001b[0m 4ms/step - accuracy: 0.8676 - loss: 0.3699\n"
     ]
    },
    {
     "data": {
      "text/plain": [
       "<keras.src.callbacks.history.History at 0x1374c63c130>"
      ]
     },
     "execution_count": 90,
     "metadata": {},
     "output_type": "execute_result"
    }
   ],
   "source": [
    "model.fit(x_train,y_train_cat,epochs=5)"
   ]
  },
  {
   "cell_type": "code",
   "execution_count": 91,
   "id": "9cb8867c",
   "metadata": {},
   "outputs": [
    {
     "name": "stdout",
     "output_type": "stream",
     "text": [
      "\u001b[1m313/313\u001b[0m \u001b[32m━━━━━━━━━━━━━━━━━━━━\u001b[0m\u001b[37m\u001b[0m \u001b[1m1s\u001b[0m 2ms/step - accuracy: 0.8515 - loss: 0.4175\n"
     ]
    },
    {
     "data": {
      "text/plain": [
       "[0.4175313115119934, 0.8514999747276306]"
      ]
     },
     "execution_count": 91,
     "metadata": {},
     "output_type": "execute_result"
    }
   ],
   "source": [
    "model.evaluate(x_test,y_test_cat)"
   ]
  },
  {
   "cell_type": "code",
   "execution_count": null,
   "id": "d8abd7fd",
   "metadata": {},
   "outputs": [
    {
     "name": "stdout",
     "output_type": "stream",
     "text": [
      "\u001b[1m313/313\u001b[0m \u001b[32m━━━━━━━━━━━━━━━━━━━━\u001b[0m\u001b[37m\u001b[0m \u001b[1m0s\u001b[0m 1ms/step\n"
     ]
    }
   ],
   "source": [
    "y_pred = model.predict(x_test)"
   ]
  },
  {
   "cell_type": "code",
   "execution_count": 111,
   "id": "59feb321",
   "metadata": {},
   "outputs": [],
   "source": [
    "y_pred_classes = np.argmax(y_pred[:],axis=1) # argmax -> max value index\n",
    "category_predictor=np.vectorize(get_image_category)"
   ]
  },
  {
   "cell_type": "code",
   "execution_count": 115,
   "id": "73df5c63",
   "metadata": {},
   "outputs": [
    {
     "name": "stdout",
     "output_type": "stream",
     "text": [
      "Test Data Category\n"
     ]
    },
    {
     "data": {
      "application/vnd.microsoft.datawrangler.viewer.v0+json": {
       "columns": [
        {
         "name": "index",
         "rawType": "int64",
         "type": "integer"
        },
        {
         "name": "0",
         "rawType": "object",
         "type": "string"
        }
       ],
       "ref": "f67d8378-50f8-4820-82f8-e92e9a0f5fc5",
       "rows": [
        [
         "0",
         "Sandal"
        ],
        [
         "1",
         "T-shirt/top"
        ],
        [
         "2",
         "T-shirt/top"
        ],
        [
         "3",
         "T-shirt/top"
        ],
        [
         "4",
         "Sneaker"
        ],
        [
         "5",
         "T-shirt/top"
        ],
        [
         "6",
         "T-shirt/top"
        ],
        [
         "7",
         "Sneaker"
        ],
        [
         "8",
         "Pullover"
        ],
        [
         "9",
         "Pullover"
        ],
        [
         "10",
         "T-shirt/top"
        ],
        [
         "11",
         "Pullover"
        ],
        [
         "12",
         "Pullover"
        ],
        [
         "13",
         "Dress"
        ],
        [
         "14",
         "T-shirt/top"
        ],
        [
         "15",
         "T-shirt/top"
        ],
        [
         "16",
         "T-shirt/top"
        ],
        [
         "17",
         "T-shirt/top"
        ],
        [
         "18",
         "Sandal"
        ],
        [
         "19",
         "Ankle boot"
        ],
        [
         "20",
         "T-shirt/top"
        ],
        [
         "21",
         "Pullover"
        ],
        [
         "22",
         "Pullover"
        ],
        [
         "23",
         "Sandal"
        ],
        [
         "24",
         "T-shirt/top"
        ],
        [
         "25",
         "T-shirt/top"
        ],
        [
         "26",
         "Sneaker"
        ],
        [
         "27",
         "Ankle boot"
        ],
        [
         "28",
         "Sandal"
        ],
        [
         "29",
         "Dress"
        ],
        [
         "30",
         "Sandal"
        ],
        [
         "31",
         "Sandal"
        ],
        [
         "32",
         "Dress"
        ],
        [
         "33",
         "Dress"
        ],
        [
         "34",
         "Sandal"
        ],
        [
         "35",
         "Ankle boot"
        ],
        [
         "36",
         "Pullover"
        ],
        [
         "37",
         "Pullover"
        ],
        [
         "38",
         "Pullover"
        ],
        [
         "39",
         "Sandal"
        ],
        [
         "40",
         "Sneaker"
        ],
        [
         "41",
         "T-shirt/top"
        ],
        [
         "42",
         "Dress"
        ],
        [
         "43",
         "Pullover"
        ],
        [
         "44",
         "Sneaker"
        ],
        [
         "45",
         "Pullover"
        ],
        [
         "46",
         "T-shirt/top"
        ],
        [
         "47",
         "T-shirt/top"
        ],
        [
         "48",
         "T-shirt/top"
        ],
        [
         "49",
         "T-shirt/top"
        ]
       ],
       "shape": {
        "columns": 1,
        "rows": 10000
       }
      },
      "text/html": [
       "<div>\n",
       "<style scoped>\n",
       "    .dataframe tbody tr th:only-of-type {\n",
       "        vertical-align: middle;\n",
       "    }\n",
       "\n",
       "    .dataframe tbody tr th {\n",
       "        vertical-align: top;\n",
       "    }\n",
       "\n",
       "    .dataframe thead th {\n",
       "        text-align: right;\n",
       "    }\n",
       "</style>\n",
       "<table border=\"1\" class=\"dataframe\">\n",
       "  <thead>\n",
       "    <tr style=\"text-align: right;\">\n",
       "      <th></th>\n",
       "      <th>0</th>\n",
       "    </tr>\n",
       "  </thead>\n",
       "  <tbody>\n",
       "    <tr>\n",
       "      <th>0</th>\n",
       "      <td>Sandal</td>\n",
       "    </tr>\n",
       "    <tr>\n",
       "      <th>1</th>\n",
       "      <td>T-shirt/top</td>\n",
       "    </tr>\n",
       "    <tr>\n",
       "      <th>2</th>\n",
       "      <td>T-shirt/top</td>\n",
       "    </tr>\n",
       "    <tr>\n",
       "      <th>3</th>\n",
       "      <td>T-shirt/top</td>\n",
       "    </tr>\n",
       "    <tr>\n",
       "      <th>4</th>\n",
       "      <td>Sneaker</td>\n",
       "    </tr>\n",
       "    <tr>\n",
       "      <th>...</th>\n",
       "      <td>...</td>\n",
       "    </tr>\n",
       "    <tr>\n",
       "      <th>9995</th>\n",
       "      <td>Sandal</td>\n",
       "    </tr>\n",
       "    <tr>\n",
       "      <th>9996</th>\n",
       "      <td>T-shirt/top</td>\n",
       "    </tr>\n",
       "    <tr>\n",
       "      <th>9997</th>\n",
       "      <td>Sandal</td>\n",
       "    </tr>\n",
       "    <tr>\n",
       "      <th>9998</th>\n",
       "      <td>T-shirt/top</td>\n",
       "    </tr>\n",
       "    <tr>\n",
       "      <th>9999</th>\n",
       "      <td>Pullover</td>\n",
       "    </tr>\n",
       "  </tbody>\n",
       "</table>\n",
       "<p>10000 rows × 1 columns</p>\n",
       "</div>"
      ],
      "text/plain": [
       "                0\n",
       "0          Sandal\n",
       "1     T-shirt/top\n",
       "2     T-shirt/top\n",
       "3     T-shirt/top\n",
       "4         Sneaker\n",
       "...           ...\n",
       "9995       Sandal\n",
       "9996  T-shirt/top\n",
       "9997       Sandal\n",
       "9998  T-shirt/top\n",
       "9999     Pullover\n",
       "\n",
       "[10000 rows x 1 columns]"
      ]
     },
     "execution_count": 115,
     "metadata": {},
     "output_type": "execute_result"
    }
   ],
   "source": [
    "test_category = pd.DataFrame(category_predictor(y_test))\n",
    "print(\"Test Data Category\")\n",
    "test_category"
   ]
  },
  {
   "cell_type": "code",
   "execution_count": 114,
   "id": "2b61f746",
   "metadata": {},
   "outputs": [
    {
     "name": "stdout",
     "output_type": "stream",
     "text": [
      "Predicted Data Category\n"
     ]
    },
    {
     "data": {
      "application/vnd.microsoft.datawrangler.viewer.v0+json": {
       "columns": [
        {
         "name": "index",
         "rawType": "int64",
         "type": "integer"
        },
        {
         "name": "0",
         "rawType": "object",
         "type": "string"
        }
       ],
       "ref": "36f09d59-06cb-4abb-bcfb-9c5b8ae49cab",
       "rows": [
        [
         "0",
         "Sandal"
        ],
        [
         "1",
         "T-shirt/top"
        ],
        [
         "2",
         "T-shirt/top"
        ],
        [
         "3",
         "T-shirt/top"
        ],
        [
         "4",
         "Ankle boot"
        ],
        [
         "5",
         "T-shirt/top"
        ],
        [
         "6",
         "T-shirt/top"
        ],
        [
         "7",
         "Sneaker"
        ],
        [
         "8",
         "Pullover"
        ],
        [
         "9",
         "Pullover"
        ],
        [
         "10",
         "T-shirt/top"
        ],
        [
         "11",
         "Pullover"
        ],
        [
         "12",
         "Pullover"
        ],
        [
         "13",
         "Dress"
        ],
        [
         "14",
         "T-shirt/top"
        ],
        [
         "15",
         "T-shirt/top"
        ],
        [
         "16",
         "T-shirt/top"
        ],
        [
         "17",
         "T-shirt/top"
        ],
        [
         "18",
         "Sandal"
        ],
        [
         "19",
         "Ankle boot"
        ],
        [
         "20",
         "Ankle boot"
        ],
        [
         "21",
         "Pullover"
        ],
        [
         "22",
         "Pullover"
        ],
        [
         "23",
         "Pullover"
        ],
        [
         "24",
         "T-shirt/top"
        ],
        [
         "25",
         "T-shirt/top"
        ],
        [
         "26",
         "Sneaker"
        ],
        [
         "27",
         "Dress"
        ],
        [
         "28",
         "Sandal"
        ],
        [
         "29",
         "Dress"
        ],
        [
         "30",
         "Sandal"
        ],
        [
         "31",
         "Sandal"
        ],
        [
         "32",
         "Dress"
        ],
        [
         "33",
         "Dress"
        ],
        [
         "34",
         "Sandal"
        ],
        [
         "35",
         "Ankle boot"
        ],
        [
         "36",
         "Pullover"
        ],
        [
         "37",
         "Pullover"
        ],
        [
         "38",
         "Pullover"
        ],
        [
         "39",
         "Sandal"
        ],
        [
         "40",
         "Ankle boot"
        ],
        [
         "41",
         "T-shirt/top"
        ],
        [
         "42",
         "Dress"
        ],
        [
         "43",
         "Pullover"
        ],
        [
         "44",
         "Sneaker"
        ],
        [
         "45",
         "Pullover"
        ],
        [
         "46",
         "Sneaker"
        ],
        [
         "47",
         "T-shirt/top"
        ],
        [
         "48",
         "T-shirt/top"
        ],
        [
         "49",
         "Sneaker"
        ]
       ],
       "shape": {
        "columns": 1,
        "rows": 10000
       }
      },
      "text/html": [
       "<div>\n",
       "<style scoped>\n",
       "    .dataframe tbody tr th:only-of-type {\n",
       "        vertical-align: middle;\n",
       "    }\n",
       "\n",
       "    .dataframe tbody tr th {\n",
       "        vertical-align: top;\n",
       "    }\n",
       "\n",
       "    .dataframe thead th {\n",
       "        text-align: right;\n",
       "    }\n",
       "</style>\n",
       "<table border=\"1\" class=\"dataframe\">\n",
       "  <thead>\n",
       "    <tr style=\"text-align: right;\">\n",
       "      <th></th>\n",
       "      <th>0</th>\n",
       "    </tr>\n",
       "  </thead>\n",
       "  <tbody>\n",
       "    <tr>\n",
       "      <th>0</th>\n",
       "      <td>Sandal</td>\n",
       "    </tr>\n",
       "    <tr>\n",
       "      <th>1</th>\n",
       "      <td>T-shirt/top</td>\n",
       "    </tr>\n",
       "    <tr>\n",
       "      <th>2</th>\n",
       "      <td>T-shirt/top</td>\n",
       "    </tr>\n",
       "    <tr>\n",
       "      <th>3</th>\n",
       "      <td>T-shirt/top</td>\n",
       "    </tr>\n",
       "    <tr>\n",
       "      <th>4</th>\n",
       "      <td>Ankle boot</td>\n",
       "    </tr>\n",
       "    <tr>\n",
       "      <th>...</th>\n",
       "      <td>...</td>\n",
       "    </tr>\n",
       "    <tr>\n",
       "      <th>9995</th>\n",
       "      <td>Sandal</td>\n",
       "    </tr>\n",
       "    <tr>\n",
       "      <th>9996</th>\n",
       "      <td>T-shirt/top</td>\n",
       "    </tr>\n",
       "    <tr>\n",
       "      <th>9997</th>\n",
       "      <td>Sandal</td>\n",
       "    </tr>\n",
       "    <tr>\n",
       "      <th>9998</th>\n",
       "      <td>T-shirt/top</td>\n",
       "    </tr>\n",
       "    <tr>\n",
       "      <th>9999</th>\n",
       "      <td>Pullover</td>\n",
       "    </tr>\n",
       "  </tbody>\n",
       "</table>\n",
       "<p>10000 rows × 1 columns</p>\n",
       "</div>"
      ],
      "text/plain": [
       "                0\n",
       "0          Sandal\n",
       "1     T-shirt/top\n",
       "2     T-shirt/top\n",
       "3     T-shirt/top\n",
       "4      Ankle boot\n",
       "...           ...\n",
       "9995       Sandal\n",
       "9996  T-shirt/top\n",
       "9997       Sandal\n",
       "9998  T-shirt/top\n",
       "9999     Pullover\n",
       "\n",
       "[10000 rows x 1 columns]"
      ]
     },
     "execution_count": 114,
     "metadata": {},
     "output_type": "execute_result"
    }
   ],
   "source": [
    "\n",
    "predicted_category=pd.DataFrame(category_predictor(y_pred_classes))\n",
    "print(\"Predicted Data Category\")\n",
    "predicted_category"
   ]
  },
  {
   "cell_type": "code",
   "execution_count": 140,
   "id": "b65d8ee6",
   "metadata": {},
   "outputs": [
    {
     "data": {
      "application/vnd.microsoft.datawrangler.viewer.v0+json": {
       "columns": [
        {
         "name": "index",
         "rawType": "int64",
         "type": "integer"
        },
        {
         "name": "0",
         "rawType": "object",
         "type": "unknown"
        }
       ],
       "ref": "d1f6d02e-3db4-4d29-9529-b87cbc919f88",
       "rows": [
        [
         "0",
         "[None, None]"
        ],
        [
         "1",
         "[None, None]"
        ],
        [
         "2",
         "[None, None]"
        ],
        [
         "3",
         "[None, None]"
        ],
        [
         "4",
         "['Ankle boot', 'Sneaker']"
        ],
        [
         "5",
         "[None, None]"
        ],
        [
         "6",
         "[None, None]"
        ],
        [
         "7",
         "[None, None]"
        ],
        [
         "8",
         "[None, None]"
        ],
        [
         "9",
         "[None, None]"
        ],
        [
         "10",
         "[None, None]"
        ],
        [
         "11",
         "[None, None]"
        ],
        [
         "12",
         "[None, None]"
        ],
        [
         "13",
         "[None, None]"
        ],
        [
         "14",
         "[None, None]"
        ],
        [
         "15",
         "[None, None]"
        ],
        [
         "16",
         "[None, None]"
        ],
        [
         "17",
         "[None, None]"
        ],
        [
         "18",
         "[None, None]"
        ],
        [
         "19",
         "[None, None]"
        ],
        [
         "20",
         "['Ankle boot', 'T-shirt/top']"
        ],
        [
         "21",
         "[None, None]"
        ],
        [
         "22",
         "[None, None]"
        ],
        [
         "23",
         "['Pullover', 'Sandal']"
        ],
        [
         "24",
         "[None, None]"
        ],
        [
         "25",
         "[None, None]"
        ],
        [
         "26",
         "[None, None]"
        ],
        [
         "27",
         "['Dress', 'Ankle boot']"
        ],
        [
         "28",
         "[None, None]"
        ],
        [
         "29",
         "[None, None]"
        ],
        [
         "30",
         "[None, None]"
        ],
        [
         "31",
         "[None, None]"
        ],
        [
         "32",
         "[None, None]"
        ],
        [
         "33",
         "[None, None]"
        ],
        [
         "34",
         "[None, None]"
        ],
        [
         "35",
         "[None, None]"
        ],
        [
         "36",
         "[None, None]"
        ],
        [
         "37",
         "[None, None]"
        ],
        [
         "38",
         "[None, None]"
        ],
        [
         "39",
         "[None, None]"
        ],
        [
         "40",
         "['Ankle boot', 'Sneaker']"
        ],
        [
         "41",
         "[None, None]"
        ],
        [
         "42",
         "[None, None]"
        ],
        [
         "43",
         "[None, None]"
        ],
        [
         "44",
         "[None, None]"
        ],
        [
         "45",
         "[None, None]"
        ],
        [
         "46",
         "['Sneaker', 'T-shirt/top']"
        ],
        [
         "47",
         "[None, None]"
        ],
        [
         "48",
         "[None, None]"
        ],
        [
         "49",
         "['Sneaker', 'T-shirt/top']"
        ]
       ],
       "shape": {
        "columns": 1,
        "rows": 10000
       }
      },
      "text/html": [
       "<div>\n",
       "<style scoped>\n",
       "    .dataframe tbody tr th:only-of-type {\n",
       "        vertical-align: middle;\n",
       "    }\n",
       "\n",
       "    .dataframe tbody tr th {\n",
       "        vertical-align: top;\n",
       "    }\n",
       "\n",
       "    .dataframe thead th {\n",
       "        text-align: right;\n",
       "    }\n",
       "</style>\n",
       "<table border=\"1\" class=\"dataframe\">\n",
       "  <thead>\n",
       "    <tr style=\"text-align: right;\">\n",
       "      <th></th>\n",
       "      <th>0</th>\n",
       "    </tr>\n",
       "  </thead>\n",
       "  <tbody>\n",
       "    <tr>\n",
       "      <th>0</th>\n",
       "      <td>[None, None]</td>\n",
       "    </tr>\n",
       "    <tr>\n",
       "      <th>1</th>\n",
       "      <td>[None, None]</td>\n",
       "    </tr>\n",
       "    <tr>\n",
       "      <th>2</th>\n",
       "      <td>[None, None]</td>\n",
       "    </tr>\n",
       "    <tr>\n",
       "      <th>3</th>\n",
       "      <td>[None, None]</td>\n",
       "    </tr>\n",
       "    <tr>\n",
       "      <th>4</th>\n",
       "      <td>[Ankle boot, Sneaker]</td>\n",
       "    </tr>\n",
       "    <tr>\n",
       "      <th>...</th>\n",
       "      <td>...</td>\n",
       "    </tr>\n",
       "    <tr>\n",
       "      <th>9995</th>\n",
       "      <td>[None, None]</td>\n",
       "    </tr>\n",
       "    <tr>\n",
       "      <th>9996</th>\n",
       "      <td>[None, None]</td>\n",
       "    </tr>\n",
       "    <tr>\n",
       "      <th>9997</th>\n",
       "      <td>[None, None]</td>\n",
       "    </tr>\n",
       "    <tr>\n",
       "      <th>9998</th>\n",
       "      <td>[None, None]</td>\n",
       "    </tr>\n",
       "    <tr>\n",
       "      <th>9999</th>\n",
       "      <td>[None, None]</td>\n",
       "    </tr>\n",
       "  </tbody>\n",
       "</table>\n",
       "<p>10000 rows × 1 columns</p>\n",
       "</div>"
      ],
      "text/plain": [
       "                          0\n",
       "0              [None, None]\n",
       "1              [None, None]\n",
       "2              [None, None]\n",
       "3              [None, None]\n",
       "4     [Ankle boot, Sneaker]\n",
       "...                     ...\n",
       "9995           [None, None]\n",
       "9996           [None, None]\n",
       "9997           [None, None]\n",
       "9998           [None, None]\n",
       "9999           [None, None]\n",
       "\n",
       "[10000 rows x 1 columns]"
      ]
     },
     "execution_count": 140,
     "metadata": {},
     "output_type": "execute_result"
    }
   ],
   "source": [
    "def get_wrong_predictions(true,pred):\n",
    "    if true != pred:\n",
    "        return [true, pred]\n",
    "    else:\n",
    "        return [None,None]          \n",
    "\n",
    "predict_wrong = np.vectorize(get_wrong_predictions)\n",
    "wrong_predictions=predict_wrong(predicted_category,test_category)\n",
    "\n",
    "wrong_predictions = pd.DataFrame(wrong_predictions)\n",
    "wrong_predictions\n"
   ]
  },
  {
   "cell_type": "code",
   "execution_count": null,
   "id": "9e4223c3",
   "metadata": {},
   "outputs": [
    {
     "data": {
      "text/plain": [
       "array([list([None, None])], dtype=object)"
      ]
     },
     "execution_count": 149,
     "metadata": {},
     "output_type": "execute_result"
    }
   ],
   "source": [
    "li=np.array(wrong_predictions.iloc[0]).reshape(-1,-1)\n",
    "li[0]"
   ]
  }
 ],
 "metadata": {
  "kernelspec": {
   "display_name": "Python 3",
   "language": "python",
   "name": "python3"
  },
  "language_info": {
   "codemirror_mode": {
    "name": "ipython",
    "version": 3
   },
   "file_extension": ".py",
   "mimetype": "text/x-python",
   "name": "python",
   "nbconvert_exporter": "python",
   "pygments_lexer": "ipython3",
   "version": "3.13.7"
  }
 },
 "nbformat": 4,
 "nbformat_minor": 5
}
